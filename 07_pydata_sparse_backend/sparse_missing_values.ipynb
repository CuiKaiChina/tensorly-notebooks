{
 "cells": [
  {
   "cell_type": "markdown",
   "metadata": {},
   "source": [
    "# Sparse PARAFAC with missing values"
   ]
  },
  {
   "cell_type": "markdown",
   "metadata": {},
   "source": [
    "This notebook is based on [sparse_demo.ipynb](sparse_demo.ipynb#parafac). "
   ]
  },
  {
   "cell_type": "markdown",
   "metadata": {},
   "source": [
    "As before, we start with a random sparse tensor, constructed so that it has a tensor factorization of rank 5.\n",
    "\n",
    "Because masked PARAFAC can take longer to converge than non-masked PARAFAC, we will use a smaller tensor than in the other notebook."
   ]
  },
  {
   "cell_type": "code",
   "execution_count": 1,
   "metadata": {},
   "outputs": [
    {
     "data": {
      "text/plain": [
       "[<COO: shape=(1000, 5), dtype=float64, nnz=50, fill_value=0.0>,\n",
       " <COO: shape=(1001, 5), dtype=float64, nnz=50, fill_value=0.0>,\n",
       " <COO: shape=(1002, 5), dtype=float64, nnz=50, fill_value=0.0>]"
      ]
     },
     "execution_count": 1,
     "metadata": {},
     "output_type": "execute_result"
    }
   ],
   "source": [
    "shape = (1000, 1001, 1002)\n",
    "rank = 5\n",
    "\n",
    "import sparse\n",
    "starting_factors = [sparse.random((i, rank)) for i in shape]\n",
    "starting_factors"
   ]
  },
  {
   "cell_type": "code",
   "execution_count": 2,
   "metadata": {},
   "outputs": [
    {
     "data": {
      "text/plain": [
       "<COO: shape=(1000, 1001, 1002), dtype=float64, nnz=5125, fill_value=0.0>"
      ]
     },
     "execution_count": 2,
     "metadata": {},
     "output_type": "execute_result"
    }
   ],
   "source": [
    "from tensorly.contrib.sparse.kruskal_tensor import kruskal_to_tensor\n",
    "tensor = kruskal_to_tensor(starting_factors)\n",
    "tensor"
   ]
  },
  {
   "cell_type": "code",
   "execution_count": 3,
   "metadata": {},
   "outputs": [
    {
     "data": {
      "text/plain": [
       "0.000164"
      ]
     },
     "execution_count": 3,
     "metadata": {},
     "output_type": "execute_result"
    }
   ],
   "source": [
    "tensor.nbytes / 1e9                # Actual memory usage in GB"
   ]
  },
  {
   "cell_type": "code",
   "execution_count": 4,
   "metadata": {},
   "outputs": [
    {
     "data": {
      "text/plain": [
       "8.024016"
      ]
     },
     "execution_count": 4,
     "metadata": {},
     "output_type": "execute_result"
    }
   ],
   "source": [
    "import numpy as np\n",
    "np.prod(tensor.shape) * 8 / 1e9    # Memory usage if array was dense, in GB"
   ]
  },
  {
   "cell_type": "markdown",
   "metadata": {},
   "source": [
    "Now let's construct a random mask. A mask should be a boolean array of the same shape as the tensor, that is `False` (`0`) where there are missing values and `True` (`1`) where elements are not missing. \n",
    "\n",
    "It is important that the mask array have a fill value of `True`, that is, the zero entries of the original `tensor` should be considered non-missing. This is because internally the parafac algorithm generates dense arrays with as many elements as are False in the mask."
   ]
  },
  {
   "cell_type": "code",
   "execution_count": 5,
   "metadata": {},
   "outputs": [
    {
     "data": {
      "text/plain": [
       "<COO: shape=(1000, 1001, 1002), dtype=bool, nnz=1526, fill_value=True>"
      ]
     },
     "execution_count": 5,
     "metadata": {},
     "output_type": "execute_result"
    }
   ],
   "source": [
    "import sparse\n",
    "missing_p = 0.3 # The fraction of nonzero entries from tensor which should be considered missing. The larger this number is, the harder it will be for PARAFAC to reconstruct the factors (meaning it may take more iterations to converge).\n",
    "\n",
    "mask = sparse.COO(coords=tensor.coords, data=np.random.choice([False, True], size=tensor.nnz, p=[missing_p, 1-missing_p]), shape=tensor.shape, fill_value=True)\n",
    "# This clears the True values from the mask.data\n",
    "mask = sparse.elemwise(lambda x: x, mask)\n",
    "mask"
   ]
  },
  {
   "cell_type": "markdown",
   "metadata": {},
   "source": [
    "Now we factor the tensor. In order to demonstrate that there are no tricks up our sleeve, we multiply the tensor by the mask to clear the \"missing\" values. The mask is passed in as a keyword argument to `parafac()`. \n",
    "\n",
    "Note that at this time, you have to use the `parafac` function from the sparse backend when using a sparse mask to avoid memory blowups."
   ]
  },
  {
   "cell_type": "code",
   "execution_count": 6,
   "metadata": {},
   "outputs": [
    {
     "name": "stdout",
     "output_type": "stream",
     "text": [
      "The memory_profiler extension is already loaded. To reload it, use:\n",
      "  %reload_ext memory_profiler\n"
     ]
    }
   ],
   "source": [
    "import time\n",
    "%load_ext memory_profiler\n",
    "from tensorly.contrib.sparse.decomposition import parafac"
   ]
  },
  {
   "cell_type": "code",
   "execution_count": 7,
   "metadata": {},
   "outputs": [
    {
     "name": "stdout",
     "output_type": "stream",
     "text": [
      "Starting iteration 0\n",
      "Mode 0 of 3\n",
      " Rank 0 of 5\n",
      " Rank 1 of 5\n",
      " Rank 2 of 5\n",
      " Rank 3 of 5\n",
      " Rank 4 of 5\n",
      "Mode 1 of 3\n",
      " Rank 0 of 5\n",
      " Rank 1 of 5\n",
      " Rank 2 of 5\n",
      " Rank 3 of 5\n",
      " Rank 4 of 5\n",
      "Mode 2 of 3\n",
      " Rank 0 of 5\n",
      " Rank 1 of 5\n",
      " Rank 2 of 5\n",
      " Rank 3 of 5\n",
      " Rank 4 of 5\n",
      "reconstruction error=0.897274887796118\n",
      "Starting iteration 1\n",
      "Mode 0 of 3\n",
      " Rank 0 of 5\n",
      " Rank 1 of 5\n",
      " Rank 2 of 5\n",
      " Rank 3 of 5\n",
      " Rank 4 of 5\n",
      "Mode 1 of 3\n",
      " Rank 0 of 5\n",
      " Rank 1 of 5\n",
      " Rank 2 of 5\n",
      " Rank 3 of 5\n",
      " Rank 4 of 5\n",
      "Mode 2 of 3\n",
      " Rank 0 of 5\n",
      " Rank 1 of 5\n",
      " Rank 2 of 5\n",
      " Rank 3 of 5\n",
      " Rank 4 of 5\n",
      "reconstruction error=0.5784042008587181, variation=0.31887068693739984.\n",
      "Starting iteration 2\n",
      "Mode 0 of 3\n",
      " Rank 0 of 5\n",
      " Rank 1 of 5\n",
      " Rank 2 of 5\n",
      " Rank 3 of 5\n",
      " Rank 4 of 5\n",
      "Mode 1 of 3\n",
      " Rank 0 of 5\n",
      " Rank 1 of 5\n",
      " Rank 2 of 5\n",
      " Rank 3 of 5\n",
      " Rank 4 of 5\n",
      "Mode 2 of 3\n",
      " Rank 0 of 5\n",
      " Rank 1 of 5\n",
      " Rank 2 of 5\n",
      " Rank 3 of 5\n",
      " Rank 4 of 5\n",
      "reconstruction error=0.2585023950982153, variation=0.3199018057605028.\n",
      "Starting iteration 3\n",
      "Mode 0 of 3\n",
      " Rank 0 of 5\n",
      " Rank 1 of 5\n",
      " Rank 2 of 5\n",
      " Rank 3 of 5\n",
      " Rank 4 of 5\n",
      "Mode 1 of 3\n",
      " Rank 0 of 5\n",
      " Rank 1 of 5\n",
      " Rank 2 of 5\n",
      " Rank 3 of 5\n",
      " Rank 4 of 5\n",
      "Mode 2 of 3\n",
      " Rank 0 of 5\n",
      " Rank 1 of 5\n",
      " Rank 2 of 5\n",
      " Rank 3 of 5\n",
      " Rank 4 of 5\n",
      "reconstruction error=0.4003085454153148, variation=-0.14180615031709948.\n",
      "Starting iteration 4\n",
      "Mode 0 of 3\n",
      " Rank 0 of 5\n",
      " Rank 1 of 5\n",
      " Rank 2 of 5\n",
      " Rank 3 of 5\n",
      " Rank 4 of 5\n",
      "Mode 1 of 3\n",
      " Rank 0 of 5\n",
      " Rank 1 of 5\n",
      " Rank 2 of 5\n",
      " Rank 3 of 5\n",
      " Rank 4 of 5\n",
      "Mode 2 of 3\n",
      " Rank 0 of 5\n",
      " Rank 1 of 5\n",
      " Rank 2 of 5\n",
      " Rank 3 of 5\n",
      " Rank 4 of 5\n",
      "reconstruction error=0.4155969199455701, variation=-0.015288374530255278.\n",
      "Starting iteration 5\n",
      "Mode 0 of 3\n",
      " Rank 0 of 5\n",
      " Rank 1 of 5\n",
      " Rank 2 of 5\n",
      " Rank 3 of 5\n",
      " Rank 4 of 5\n",
      "Mode 1 of 3\n",
      " Rank 0 of 5\n",
      " Rank 1 of 5\n",
      " Rank 2 of 5\n",
      " Rank 3 of 5\n",
      " Rank 4 of 5\n",
      "Mode 2 of 3\n",
      " Rank 0 of 5\n",
      " Rank 1 of 5\n",
      " Rank 2 of 5\n",
      " Rank 3 of 5\n",
      " Rank 4 of 5\n",
      "reconstruction error=0.42012655976158075, variation=-0.004529639816010678.\n",
      "Starting iteration 6\n",
      "Mode 0 of 3\n",
      " Rank 0 of 5\n",
      " Rank 1 of 5\n",
      " Rank 2 of 5\n",
      " Rank 3 of 5\n",
      " Rank 4 of 5\n",
      "Mode 1 of 3\n",
      " Rank 0 of 5\n",
      " Rank 1 of 5\n",
      " Rank 2 of 5\n",
      " Rank 3 of 5\n",
      " Rank 4 of 5\n",
      "Mode 2 of 3\n",
      " Rank 0 of 5\n",
      " Rank 1 of 5\n",
      " Rank 2 of 5\n",
      " Rank 3 of 5\n",
      " Rank 4 of 5\n",
      "reconstruction error=0.42190036422952565, variation=-0.001773804467944895.\n",
      "Starting iteration 7\n",
      "Mode 0 of 3\n",
      " Rank 0 of 5\n",
      " Rank 1 of 5\n",
      " Rank 2 of 5\n",
      " Rank 3 of 5\n",
      " Rank 4 of 5\n",
      "Mode 1 of 3\n",
      " Rank 0 of 5\n",
      " Rank 1 of 5\n",
      " Rank 2 of 5\n",
      " Rank 3 of 5\n",
      " Rank 4 of 5\n",
      "Mode 2 of 3\n",
      " Rank 0 of 5\n",
      " Rank 1 of 5\n",
      " Rank 2 of 5\n",
      " Rank 3 of 5\n",
      " Rank 4 of 5\n",
      "reconstruction error=0.4226534130206069, variation=-0.0007530487910812345.\n",
      "Starting iteration 8\n",
      "Mode 0 of 3\n",
      " Rank 0 of 5\n",
      " Rank 1 of 5\n",
      " Rank 2 of 5\n",
      " Rank 3 of 5\n",
      " Rank 4 of 5\n",
      "Mode 1 of 3\n",
      " Rank 0 of 5\n",
      " Rank 1 of 5\n",
      " Rank 2 of 5\n",
      " Rank 3 of 5\n",
      " Rank 4 of 5\n",
      "Mode 2 of 3\n",
      " Rank 0 of 5\n",
      " Rank 1 of 5\n",
      " Rank 2 of 5\n",
      " Rank 3 of 5\n",
      " Rank 4 of 5\n",
      "reconstruction error=0.42298777969309526, variation=-0.00033436667248837315.\n",
      "Starting iteration 9\n",
      "Mode 0 of 3\n",
      " Rank 0 of 5\n",
      " Rank 1 of 5\n",
      " Rank 2 of 5\n",
      " Rank 3 of 5\n",
      " Rank 4 of 5\n",
      "Mode 1 of 3\n",
      " Rank 0 of 5\n",
      " Rank 1 of 5\n",
      " Rank 2 of 5\n",
      " Rank 3 of 5\n",
      " Rank 4 of 5\n",
      "Mode 2 of 3\n",
      " Rank 0 of 5\n",
      " Rank 1 of 5\n",
      " Rank 2 of 5\n",
      " Rank 3 of 5\n",
      " Rank 4 of 5\n",
      "reconstruction error=0.42314075519184435, variation=-0.00015297549874909722.\n",
      "Starting iteration 10\n",
      "Mode 0 of 3\n",
      " Rank 0 of 5\n",
      " Rank 1 of 5\n",
      " Rank 2 of 5\n",
      " Rank 3 of 5\n",
      " Rank 4 of 5\n",
      "Mode 1 of 3\n",
      " Rank 0 of 5\n",
      " Rank 1 of 5\n",
      " Rank 2 of 5\n",
      " Rank 3 of 5\n",
      " Rank 4 of 5\n",
      "Mode 2 of 3\n",
      " Rank 0 of 5\n",
      " Rank 1 of 5\n",
      " Rank 2 of 5\n",
      " Rank 3 of 5\n",
      " Rank 4 of 5\n",
      "reconstruction error=0.4232122658270563, variation=-7.151063521193546e-05.\n",
      "Starting iteration 11\n",
      "Mode 0 of 3\n",
      " Rank 0 of 5\n",
      " Rank 1 of 5\n",
      " Rank 2 of 5\n",
      " Rank 3 of 5\n",
      " Rank 4 of 5\n",
      "Mode 1 of 3\n",
      " Rank 0 of 5\n",
      " Rank 1 of 5\n",
      " Rank 2 of 5\n",
      " Rank 3 of 5\n",
      " Rank 4 of 5\n",
      "Mode 2 of 3\n",
      " Rank 0 of 5\n",
      " Rank 1 of 5\n",
      " Rank 2 of 5\n",
      " Rank 3 of 5\n",
      " Rank 4 of 5\n",
      "reconstruction error=0.4232462313699446, variation=-3.396554288831455e-05.\n",
      "Starting iteration 12\n",
      "Mode 0 of 3\n",
      " Rank 0 of 5\n",
      " Rank 1 of 5\n",
      " Rank 2 of 5\n",
      " Rank 3 of 5\n",
      " Rank 4 of 5\n",
      "Mode 1 of 3\n",
      " Rank 0 of 5\n",
      " Rank 1 of 5\n",
      " Rank 2 of 5\n",
      " Rank 3 of 5\n",
      " Rank 4 of 5\n",
      "Mode 2 of 3\n",
      " Rank 0 of 5\n",
      " Rank 1 of 5\n",
      " Rank 2 of 5\n",
      " Rank 3 of 5\n",
      " Rank 4 of 5\n",
      "reconstruction error=0.4232625591409449, variation=-1.6327771000301805e-05.\n",
      "Starting iteration 13\n",
      "Mode 0 of 3\n",
      " Rank 0 of 5\n",
      " Rank 1 of 5\n",
      " Rank 2 of 5\n",
      " Rank 3 of 5\n",
      " Rank 4 of 5\n",
      "Mode 1 of 3\n",
      " Rank 0 of 5\n",
      " Rank 1 of 5\n",
      " Rank 2 of 5\n",
      " Rank 3 of 5\n",
      " Rank 4 of 5\n",
      "Mode 2 of 3\n",
      " Rank 0 of 5\n",
      " Rank 1 of 5\n",
      " Rank 2 of 5\n",
      " Rank 3 of 5\n",
      " Rank 4 of 5\n",
      "reconstruction error=0.4232704806663587, variation=-7.921525413789876e-06.\n",
      "Starting iteration 14\n",
      "Mode 0 of 3\n",
      " Rank 0 of 5\n",
      " Rank 1 of 5\n",
      " Rank 2 of 5\n",
      " Rank 3 of 5\n",
      " Rank 4 of 5\n",
      "Mode 1 of 3\n",
      " Rank 0 of 5\n",
      " Rank 1 of 5\n",
      " Rank 2 of 5\n",
      " Rank 3 of 5\n",
      " Rank 4 of 5\n",
      "Mode 2 of 3\n",
      " Rank 0 of 5\n",
      " Rank 1 of 5\n",
      " Rank 2 of 5\n",
      " Rank 3 of 5\n",
      " Rank 4 of 5\n",
      "reconstruction error=0.4232743513069721, variation=-3.870640613412579e-06.\n",
      "Starting iteration 15\n",
      "Mode 0 of 3\n",
      " Rank 0 of 5\n",
      " Rank 1 of 5\n",
      " Rank 2 of 5\n",
      " Rank 3 of 5\n",
      " Rank 4 of 5\n",
      "Mode 1 of 3\n",
      " Rank 0 of 5\n",
      " Rank 1 of 5\n",
      " Rank 2 of 5\n",
      " Rank 3 of 5\n",
      " Rank 4 of 5\n",
      "Mode 2 of 3\n",
      " Rank 0 of 5\n",
      " Rank 1 of 5\n",
      " Rank 2 of 5\n",
      " Rank 3 of 5\n",
      " Rank 4 of 5\n",
      "reconstruction error=0.4232762531617155, variation=-1.9018547434135336e-06.\n",
      "Starting iteration 16\n",
      "Mode 0 of 3\n",
      " Rank 0 of 5\n",
      " Rank 1 of 5\n",
      " Rank 2 of 5\n",
      " Rank 3 of 5\n",
      " Rank 4 of 5\n",
      "Mode 1 of 3\n",
      " Rank 0 of 5\n",
      " Rank 1 of 5\n",
      " Rank 2 of 5\n",
      " Rank 3 of 5\n",
      " Rank 4 of 5\n",
      "Mode 2 of 3\n",
      " Rank 0 of 5\n",
      " Rank 1 of 5\n",
      " Rank 2 of 5\n",
      " Rank 3 of 5\n",
      " Rank 4 of 5\n",
      "reconstruction error=0.42327719177431944, variation=-9.38612603917921e-07.\n",
      "Starting iteration 17\n",
      "Mode 0 of 3\n",
      " Rank 0 of 5\n",
      " Rank 1 of 5\n",
      " Rank 2 of 5\n",
      " Rank 3 of 5\n",
      " Rank 4 of 5\n",
      "Mode 1 of 3\n",
      " Rank 0 of 5\n",
      " Rank 1 of 5\n",
      " Rank 2 of 5\n",
      " Rank 3 of 5\n",
      " Rank 4 of 5\n",
      "Mode 2 of 3\n",
      " Rank 0 of 5\n",
      " Rank 1 of 5\n",
      " Rank 2 of 5\n",
      " Rank 3 of 5\n",
      " Rank 4 of 5\n",
      "reconstruction error=0.423277656637569, variation=-4.64863249560743e-07.\n",
      "Starting iteration 18\n",
      "Mode 0 of 3\n",
      " Rank 0 of 5\n",
      " Rank 1 of 5\n",
      " Rank 2 of 5\n",
      " Rank 3 of 5\n",
      " Rank 4 of 5\n",
      "Mode 1 of 3\n",
      " Rank 0 of 5\n",
      " Rank 1 of 5\n",
      " Rank 2 of 5\n",
      " Rank 3 of 5\n",
      " Rank 4 of 5\n",
      "Mode 2 of 3\n",
      " Rank 0 of 5\n",
      " Rank 1 of 5\n",
      " Rank 2 of 5\n",
      " Rank 3 of 5\n",
      " Rank 4 of 5\n",
      "reconstruction error=0.4232778875241776, variation=-2.3088660860981491e-07.\n",
      "Starting iteration 19\n",
      "Mode 0 of 3\n",
      " Rank 0 of 5\n",
      " Rank 1 of 5\n",
      " Rank 2 of 5\n",
      " Rank 3 of 5\n",
      " Rank 4 of 5\n",
      "Mode 1 of 3\n",
      " Rank 0 of 5\n",
      " Rank 1 of 5\n",
      " Rank 2 of 5\n",
      " Rank 3 of 5\n",
      " Rank 4 of 5\n",
      "Mode 2 of 3\n",
      " Rank 0 of 5\n",
      " Rank 1 of 5\n",
      " Rank 2 of 5\n",
      " Rank 3 of 5\n",
      " Rank 4 of 5\n",
      "reconstruction error=0.42327800246620007, variation=-1.1494202245554419e-07.\n",
      "Starting iteration 20\n",
      "Mode 0 of 3\n",
      " Rank 0 of 5\n",
      " Rank 1 of 5\n",
      " Rank 2 of 5\n",
      " Rank 3 of 5\n",
      " Rank 4 of 5\n",
      "Mode 1 of 3\n",
      " Rank 0 of 5\n",
      " Rank 1 of 5\n",
      " Rank 2 of 5\n",
      " Rank 3 of 5\n",
      " Rank 4 of 5\n",
      "Mode 2 of 3\n",
      " Rank 0 of 5\n",
      " Rank 1 of 5\n",
      " Rank 2 of 5\n",
      " Rank 3 of 5\n",
      " Rank 4 of 5\n",
      "reconstruction error=0.4232780597969783, variation=-5.7330778235886726e-08.\n",
      "Starting iteration 21\n",
      "Mode 0 of 3\n",
      " Rank 0 of 5\n",
      " Rank 1 of 5\n",
      " Rank 2 of 5\n",
      " Rank 3 of 5\n",
      " Rank 4 of 5\n",
      "Mode 1 of 3\n",
      " Rank 0 of 5\n",
      " Rank 1 of 5\n",
      " Rank 2 of 5\n",
      " Rank 3 of 5\n",
      " Rank 4 of 5\n",
      "Mode 2 of 3\n",
      " Rank 0 of 5\n",
      " Rank 1 of 5\n",
      " Rank 2 of 5\n",
      " Rank 3 of 5\n",
      " Rank 4 of 5\n",
      "reconstruction error=0.42327808843785886, variation=-2.8640880556096704e-08.\n",
      "Starting iteration 22\n",
      "Mode 0 of 3\n",
      " Rank 0 of 5\n",
      " Rank 1 of 5\n",
      " Rank 2 of 5\n",
      " Rank 3 of 5\n",
      " Rank 4 of 5\n",
      "Mode 1 of 3\n",
      " Rank 0 of 5\n",
      " Rank 1 of 5\n",
      " Rank 2 of 5\n",
      " Rank 3 of 5\n",
      " Rank 4 of 5\n",
      "Mode 2 of 3\n",
      " Rank 0 of 5\n",
      " Rank 1 of 5\n",
      " Rank 2 of 5\n",
      " Rank 3 of 5\n",
      " Rank 4 of 5\n",
      "reconstruction error=0.423278102765161, variation=-1.432730212247435e-08.\n",
      "Starting iteration 23\n",
      "Mode 0 of 3\n",
      " Rank 0 of 5\n",
      " Rank 1 of 5\n",
      " Rank 2 of 5\n",
      " Rank 3 of 5\n",
      " Rank 4 of 5\n",
      "Mode 1 of 3\n",
      " Rank 0 of 5\n",
      " Rank 1 of 5\n",
      " Rank 2 of 5\n",
      " Rank 3 of 5\n",
      " Rank 4 of 5\n",
      "Mode 2 of 3\n",
      " Rank 0 of 5\n",
      " Rank 1 of 5\n",
      " Rank 2 of 5\n",
      " Rank 3 of 5\n",
      " Rank 4 of 5\n",
      "reconstruction error=0.42327810994036846, variation=-7.175207483722801e-09.\n",
      "converged in 23 iterations.\n",
      "Took 0 mins 40 secs\n",
      "peak memory: 128.46 MiB, increment: 28.30 MiB\n"
     ]
    }
   ],
   "source": [
    "%%memit\n",
    "start_time = time.time()\n",
    "factors = parafac(tensor*mask, rank=rank, init='random', verbose=True, mask=mask)\n",
    "end_time = time.time()\n",
    "total_time = end_time - start_time\n",
    "print('Took %d mins %d secs' % (divmod(total_time, 60)))"
   ]
  },
  {
   "cell_type": "markdown",
   "metadata": {},
   "source": [
    "Let's look at one of the values that was masked out."
   ]
  },
  {
   "cell_type": "code",
   "execution_count": 8,
   "metadata": {},
   "outputs": [
    {
     "data": {
      "text/plain": [
       "array([  8,  58, 741])"
      ]
     },
     "execution_count": 8,
     "metadata": {},
     "output_type": "execute_result"
    }
   ],
   "source": [
    "mask.coords.T[0]"
   ]
  },
  {
   "cell_type": "code",
   "execution_count": 9,
   "metadata": {},
   "outputs": [
    {
     "data": {
      "text/plain": [
       "False"
      ]
     },
     "execution_count": 9,
     "metadata": {},
     "output_type": "execute_result"
    }
   ],
   "source": [
    "mask[tuple(mask.coords.T[0])]"
   ]
  },
  {
   "cell_type": "code",
   "execution_count": 10,
   "metadata": {},
   "outputs": [
    {
     "data": {
      "text/plain": [
       "0.08614559752892052"
      ]
     },
     "execution_count": 10,
     "metadata": {},
     "output_type": "execute_result"
    }
   ],
   "source": [
    "orig_val = tensor[tuple(mask.coords.T[0])]\n",
    "orig_val"
   ]
  },
  {
   "cell_type": "markdown",
   "metadata": {},
   "source": [
    "See the [sparse_demo.ipynb](sparse_demo.ipynb) for how to calculate individual values from the factors."
   ]
  },
  {
   "cell_type": "code",
   "execution_count": 11,
   "metadata": {},
   "outputs": [
    {
     "data": {
      "text/plain": [
       "0.08614559755825321"
      ]
     },
     "execution_count": 11,
     "metadata": {},
     "output_type": "execute_result"
    }
   ],
   "source": [
    "computed_val = np.sum(np.prod(sparse.stack([factors[i][idx] for i, idx in enumerate(tuple(mask.coords.T[0]))], 0), 0))\n",
    "computed_val"
   ]
  },
  {
   "cell_type": "code",
   "execution_count": 12,
   "metadata": {},
   "outputs": [
    {
     "data": {
      "text/plain": [
       "2.933268905547237e-11"
      ]
     },
     "execution_count": 12,
     "metadata": {},
     "output_type": "execute_result"
    }
   ],
   "source": [
    "np.abs(orig_val - computed_val)"
   ]
  },
  {
   "cell_type": "markdown",
   "metadata": {},
   "source": [
    "Obviously this is a constructed example, where we know the unmasked tensor has an exact factorization. But this demonstrates that given a tensor with missing values, which we have reason to believe is represented by a rank $r$ tensor decomposition, we should expect this decomposition to do a decent job at reconstructing those missing values (this may not be the case if the missing values are not randomly distributed across the tensor as we have here). \n",
    "\n",
    "Let's compare this to a value that was not masked"
   ]
  },
  {
   "cell_type": "code",
   "execution_count": 13,
   "metadata": {},
   "outputs": [
    {
     "data": {
      "text/plain": [
       "True"
      ]
     },
     "execution_count": 13,
     "metadata": {},
     "output_type": "execute_result"
    }
   ],
   "source": [
    "for i in tensor.coords.T:\n",
    "    non_missing_coord = tuple(i)\n",
    "    if mask[non_missing_coord]:\n",
    "        break\n",
    "        \n",
    "mask[non_missing_coord]"
   ]
  },
  {
   "cell_type": "code",
   "execution_count": 14,
   "metadata": {},
   "outputs": [
    {
     "data": {
      "text/plain": [
       "0.08860903077760515"
      ]
     },
     "execution_count": 14,
     "metadata": {},
     "output_type": "execute_result"
    }
   ],
   "source": [
    "orig_val = tensor[non_missing_coord]\n",
    "orig_val"
   ]
  },
  {
   "cell_type": "code",
   "execution_count": 15,
   "metadata": {},
   "outputs": [
    {
     "data": {
      "text/plain": [
       "0.0886090308131763"
      ]
     },
     "execution_count": 15,
     "metadata": {},
     "output_type": "execute_result"
    }
   ],
   "source": [
    "computed_val = np.sum(np.prod(sparse.stack([factors[i][idx] for i, idx in enumerate(non_missing_coord)], 0), 0))\n",
    "computed_val"
   ]
  },
  {
   "cell_type": "code",
   "execution_count": 16,
   "metadata": {},
   "outputs": [
    {
     "data": {
      "text/plain": [
       "3.557114325314359e-11"
      ]
     },
     "execution_count": 16,
     "metadata": {},
     "output_type": "execute_result"
    }
   ],
   "source": [
    "np.abs(orig_val - computed_val)"
   ]
  },
  {
   "cell_type": "markdown",
   "metadata": {},
   "source": [
    "As before, we should not in general try to recompose a sparse factorization unless we can represent it densely, but since this was constructed explicitly from sparse factors, we are able to do it (being careful to use the `kruskal_to_tensor` from the sparse backend)."
   ]
  },
  {
   "cell_type": "code",
   "execution_count": 17,
   "metadata": {},
   "outputs": [
    {
     "data": {
      "text/plain": [
       "<COO: shape=(1000, 1001, 1002), dtype=float64, nnz=108288, fill_value=0.0>"
      ]
     },
     "execution_count": 17,
     "metadata": {},
     "output_type": "execute_result"
    }
   ],
   "source": [
    "expanded = kruskal_to_tensor(factors)\n",
    "expanded"
   ]
  },
  {
   "cell_type": "markdown",
   "metadata": {},
   "source": [
    "Now let's look at the absolute error, both including and not including missing values."
   ]
  },
  {
   "cell_type": "code",
   "execution_count": 18,
   "metadata": {},
   "outputs": [
    {
     "data": {
      "text/plain": [
       "5.5240250002835305"
      ]
     },
     "execution_count": 18,
     "metadata": {},
     "output_type": "execute_result"
    }
   ],
   "source": [
    "from tensorly.contrib.sparse import norm\n",
    "norm((tensor - expanded)*mask) # Absolute error of the non-missing values"
   ]
  },
  {
   "cell_type": "code",
   "execution_count": 19,
   "metadata": {},
   "outputs": [
    {
     "data": {
      "text/plain": [
       "6.554612462548368"
      ]
     },
     "execution_count": 19,
     "metadata": {},
     "output_type": "execute_result"
    }
   ],
   "source": [
    "norm(tensor - expanded) # Absolute error including missing values"
   ]
  }
 ],
 "metadata": {
  "kernelspec": {
   "display_name": "Python 3",
   "language": "python",
   "name": "python3"
  },
  "language_info": {
   "codemirror_mode": {
    "name": "ipython",
    "version": 3
   },
   "file_extension": ".py",
   "mimetype": "text/x-python",
   "name": "python",
   "nbconvert_exporter": "python",
   "pygments_lexer": "ipython3",
   "version": "3.6.7"
  }
 },
 "nbformat": 4,
 "nbformat_minor": 2
}
