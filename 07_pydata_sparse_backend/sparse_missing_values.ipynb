{
 "cells": [
  {
   "cell_type": "markdown",
   "metadata": {},
   "source": [
    "# Sparse PARAFAC with missing values"
   ]
  },
  {
   "cell_type": "markdown",
   "metadata": {},
   "source": [
    "This notebook is based on [sparse_demo.ipynb](sparse_demo.ipynb#parafac). "
   ]
  },
  {
   "cell_type": "markdown",
   "metadata": {},
   "source": [
    "As before, we start with a random sparse tensor, constructed so that it has a tensor factorization of rank 5.\n",
    "\n",
    "Because masked PARAFAC can take longer to converge than non-masked PARAFAC, we will use a smaller tensor than in the other notebook."
   ]
  },
  {
   "cell_type": "code",
   "execution_count": 1,
   "metadata": {},
   "outputs": [
    {
     "data": {
      "text/plain": [
       "[<COO: shape=(1000, 5), dtype=float64, nnz=50, fill_value=0.0>,\n",
       " <COO: shape=(1001, 5), dtype=float64, nnz=50, fill_value=0.0>,\n",
       " <COO: shape=(1002, 5), dtype=float64, nnz=50, fill_value=0.0>]"
      ]
     },
     "execution_count": 1,
     "metadata": {},
     "output_type": "execute_result"
    }
   ],
   "source": [
    "shape = (1000, 1001, 1002)\n",
    "rank = 5\n",
    "\n",
    "import sparse\n",
    "starting_factors = [sparse.random((i, rank)) for i in shape]\n",
    "starting_factors"
   ]
  },
  {
   "cell_type": "code",
   "execution_count": 2,
   "metadata": {},
   "outputs": [
    {
     "data": {
      "text/plain": [
       "<COO: shape=(1000, 1001, 1002), dtype=float64, nnz=4756, fill_value=0.0>"
      ]
     },
     "execution_count": 2,
     "metadata": {},
     "output_type": "execute_result"
    }
   ],
   "source": [
    "from tensorly.contrib.sparse.kruskal_tensor import kruskal_to_tensor\n",
    "tensor = kruskal_to_tensor(starting_factors)\n",
    "tensor"
   ]
  },
  {
   "cell_type": "code",
   "execution_count": 3,
   "metadata": {},
   "outputs": [
    {
     "data": {
      "text/plain": [
       "0.000152192"
      ]
     },
     "execution_count": 3,
     "metadata": {},
     "output_type": "execute_result"
    }
   ],
   "source": [
    "tensor.nbytes / 1e9                # Actual memory usage in GB"
   ]
  },
  {
   "cell_type": "code",
   "execution_count": 4,
   "metadata": {},
   "outputs": [
    {
     "data": {
      "text/plain": [
       "8.024016"
      ]
     },
     "execution_count": 4,
     "metadata": {},
     "output_type": "execute_result"
    }
   ],
   "source": [
    "import numpy as np\n",
    "np.prod(tensor.shape) * 8 / 1e9    # Memory usage if array was dense, in GB"
   ]
  },
  {
   "cell_type": "markdown",
   "metadata": {},
   "source": [
    "Now let's construct a random mask. A mask should be a boolean array of the same shape as the tensor, that is `False` (`0`) where there are missing values and `True` (`1`) where elements are not missing. \n",
    "\n",
    "It is important that the mask array have a fill value of `True`, that is, the zero entries of the original `tensor` should be considered non-missing. This is because internally the parafac algorithm generates dense arrays with as many elements as are False in the mask."
   ]
  },
  {
   "cell_type": "code",
   "execution_count": 5,
   "metadata": {},
   "outputs": [
    {
     "data": {
      "text/plain": [
       "<COO: shape=(1000, 1001, 1002), dtype=bool, nnz=1430, fill_value=True>"
      ]
     },
     "execution_count": 5,
     "metadata": {},
     "output_type": "execute_result"
    }
   ],
   "source": [
    "import sparse\n",
    "missing_p = 0.3 # The fraction of nonzero entries from tensor which should be considered missing. The larger this number is, the harder it will be for PARAFAC to reconstruct the factors (meaning it may take more iterations to converge).\n",
    "\n",
    "mask = sparse.COO(coords=tensor.coords, data=np.random.choice([False, True], size=tensor.nnz, p=[missing_p, 1-missing_p]), shape=tensor.shape, fill_value=True)\n",
    "# This clears the True values from the mask.data\n",
    "mask = sparse.elemwise(lambda x: x, mask)\n",
    "mask"
   ]
  },
  {
   "cell_type": "markdown",
   "metadata": {},
   "source": [
    "Now we factor the tensor. In order to demonstrate that there are no tricks up our sleeve, we multiply the tensor by the mask to clear the \"missing\" values. The mask is passed in as a keyword argument to `parafac()`. \n",
    "\n",
    "Note that at this time, you have to use the `parafac` function from the sparse backend when using a sparse mask to avoid memory blowups."
   ]
  },
  {
   "cell_type": "code",
   "execution_count": 6,
   "metadata": {},
   "outputs": [
    {
     "name": "stdout",
     "output_type": "stream",
     "text": [
      "The memory_profiler extension is already loaded. To reload it, use:\n",
      "  %reload_ext memory_profiler\n"
     ]
    }
   ],
   "source": [
    "import time\n",
    "%load_ext memory_profiler\n",
    "from tensorly.contrib.sparse.decomposition import parafac"
   ]
  },
  {
   "cell_type": "code",
   "execution_count": 7,
   "metadata": {},
   "outputs": [
    {
     "name": "stdout",
     "output_type": "stream",
     "text": [
      "Starting iteration 0\n",
      "Mode 0 of 3\n",
      " Rank 0 of 5\n",
      " Rank 1 of 5\n",
      " Rank 2 of 5\n",
      " Rank 3 of 5\n",
      " Rank 4 of 5\n",
      "Mode 1 of 3\n",
      " Rank 0 of 5\n",
      " Rank 1 of 5\n",
      " Rank 2 of 5\n",
      " Rank 3 of 5\n",
      " Rank 4 of 5\n",
      "Mode 2 of 3\n",
      " Rank 0 of 5\n",
      " Rank 1 of 5\n",
      " Rank 2 of 5\n",
      " Rank 3 of 5\n",
      " Rank 4 of 5\n",
      "reconstruction error=0.8047876933612448\n",
      "Starting iteration 1\n",
      "Mode 0 of 3\n",
      " Rank 0 of 5\n",
      " Rank 1 of 5\n",
      " Rank 2 of 5\n",
      " Rank 3 of 5\n",
      " Rank 4 of 5\n",
      "Mode 1 of 3\n",
      " Rank 0 of 5\n",
      " Rank 1 of 5\n",
      " Rank 2 of 5\n",
      " Rank 3 of 5\n",
      " Rank 4 of 5\n",
      "Mode 2 of 3\n",
      " Rank 0 of 5\n",
      " Rank 1 of 5\n",
      " Rank 2 of 5\n",
      " Rank 3 of 5\n",
      " Rank 4 of 5\n",
      "reconstruction error=0.3777375631984603, variation=0.4270501301627845.\n",
      "Starting iteration 2\n",
      "Mode 0 of 3\n",
      " Rank 0 of 5\n",
      " Rank 1 of 5\n",
      " Rank 2 of 5\n",
      " Rank 3 of 5\n",
      " Rank 4 of 5\n",
      "Mode 1 of 3\n",
      " Rank 0 of 5\n",
      " Rank 1 of 5\n",
      " Rank 2 of 5\n",
      " Rank 3 of 5\n",
      " Rank 4 of 5\n",
      "Mode 2 of 3\n",
      " Rank 0 of 5\n",
      " Rank 1 of 5\n",
      " Rank 2 of 5\n",
      " Rank 3 of 5\n",
      " Rank 4 of 5\n",
      "reconstruction error=0.4990269655656585, variation=-0.1212894023671982.\n",
      "Starting iteration 3\n",
      "Mode 0 of 3\n",
      " Rank 0 of 5\n",
      " Rank 1 of 5\n",
      " Rank 2 of 5\n",
      " Rank 3 of 5\n",
      " Rank 4 of 5\n",
      "Mode 1 of 3\n",
      " Rank 0 of 5\n",
      " Rank 1 of 5\n",
      " Rank 2 of 5\n",
      " Rank 3 of 5\n",
      " Rank 4 of 5\n",
      "Mode 2 of 3\n",
      " Rank 0 of 5\n",
      " Rank 1 of 5\n",
      " Rank 2 of 5\n",
      " Rank 3 of 5\n",
      " Rank 4 of 5\n",
      "reconstruction error=0.5145193482095738, variation=-0.015492382643915281.\n",
      "Starting iteration 4\n",
      "Mode 0 of 3\n",
      " Rank 0 of 5\n",
      " Rank 1 of 5\n",
      " Rank 2 of 5\n",
      " Rank 3 of 5\n",
      " Rank 4 of 5\n",
      "Mode 1 of 3\n",
      " Rank 0 of 5\n",
      " Rank 1 of 5\n",
      " Rank 2 of 5\n",
      " Rank 3 of 5\n",
      " Rank 4 of 5\n",
      "Mode 2 of 3\n",
      " Rank 0 of 5\n",
      " Rank 1 of 5\n",
      " Rank 2 of 5\n",
      " Rank 3 of 5\n",
      " Rank 4 of 5\n",
      "reconstruction error=0.5189239981384213, variation=-0.004404649928847482.\n",
      "Starting iteration 5\n",
      "Mode 0 of 3\n",
      " Rank 0 of 5\n",
      " Rank 1 of 5\n",
      " Rank 2 of 5\n",
      " Rank 3 of 5\n",
      " Rank 4 of 5\n",
      "Mode 1 of 3\n",
      " Rank 0 of 5\n",
      " Rank 1 of 5\n",
      " Rank 2 of 5\n",
      " Rank 3 of 5\n",
      " Rank 4 of 5\n",
      "Mode 2 of 3\n",
      " Rank 0 of 5\n",
      " Rank 1 of 5\n",
      " Rank 2 of 5\n",
      " Rank 3 of 5\n",
      " Rank 4 of 5\n",
      "reconstruction error=0.5204588328152551, variation=-0.0015348346768337962.\n",
      "Starting iteration 6\n",
      "Mode 0 of 3\n",
      " Rank 0 of 5\n",
      " Rank 1 of 5\n",
      " Rank 2 of 5\n",
      " Rank 3 of 5\n",
      " Rank 4 of 5\n",
      "Mode 1 of 3\n",
      " Rank 0 of 5\n",
      " Rank 1 of 5\n",
      " Rank 2 of 5\n",
      " Rank 3 of 5\n",
      " Rank 4 of 5\n",
      "Mode 2 of 3\n",
      " Rank 0 of 5\n",
      " Rank 1 of 5\n",
      " Rank 2 of 5\n",
      " Rank 3 of 5\n",
      " Rank 4 of 5\n",
      "reconstruction error=0.5210291944633373, variation=-0.0005703616480822182.\n",
      "Starting iteration 7\n",
      "Mode 0 of 3\n",
      " Rank 0 of 5\n",
      " Rank 1 of 5\n",
      " Rank 2 of 5\n",
      " Rank 3 of 5\n",
      " Rank 4 of 5\n",
      "Mode 1 of 3\n",
      " Rank 0 of 5\n",
      " Rank 1 of 5\n",
      " Rank 2 of 5\n",
      " Rank 3 of 5\n",
      " Rank 4 of 5\n",
      "Mode 2 of 3\n",
      " Rank 0 of 5\n",
      " Rank 1 of 5\n",
      " Rank 2 of 5\n",
      " Rank 3 of 5\n",
      " Rank 4 of 5\n",
      "reconstruction error=0.5212485824367795, variation=-0.00021938797344223104.\n",
      "Starting iteration 8\n",
      "Mode 0 of 3\n",
      " Rank 0 of 5\n",
      " Rank 1 of 5\n",
      " Rank 2 of 5\n",
      " Rank 3 of 5\n",
      " Rank 4 of 5\n",
      "Mode 1 of 3\n",
      " Rank 0 of 5\n",
      " Rank 1 of 5\n",
      " Rank 2 of 5\n",
      " Rank 3 of 5\n",
      " Rank 4 of 5\n",
      "Mode 2 of 3\n",
      " Rank 0 of 5\n",
      " Rank 1 of 5\n",
      " Rank 2 of 5\n",
      " Rank 3 of 5\n",
      " Rank 4 of 5\n",
      "reconstruction error=0.5213349007767192, variation=-8.631833993966165e-05.\n",
      "Starting iteration 9\n",
      "Mode 0 of 3\n",
      " Rank 0 of 5\n",
      " Rank 1 of 5\n",
      " Rank 2 of 5\n",
      " Rank 3 of 5\n",
      " Rank 4 of 5\n",
      "Mode 1 of 3\n",
      " Rank 0 of 5\n",
      " Rank 1 of 5\n",
      " Rank 2 of 5\n",
      " Rank 3 of 5\n",
      " Rank 4 of 5\n",
      "Mode 2 of 3\n",
      " Rank 0 of 5\n",
      " Rank 1 of 5\n",
      " Rank 2 of 5\n",
      " Rank 3 of 5\n",
      " Rank 4 of 5\n",
      "reconstruction error=0.5213694219147311, variation=-3.4521138011944785e-05.\n",
      "Starting iteration 10\n",
      "Mode 0 of 3\n",
      " Rank 0 of 5\n",
      " Rank 1 of 5\n",
      " Rank 2 of 5\n",
      " Rank 3 of 5\n",
      " Rank 4 of 5\n",
      "Mode 1 of 3\n",
      " Rank 0 of 5\n",
      " Rank 1 of 5\n",
      " Rank 2 of 5\n",
      " Rank 3 of 5\n",
      " Rank 4 of 5\n",
      "Mode 2 of 3\n",
      " Rank 0 of 5\n",
      " Rank 1 of 5\n",
      " Rank 2 of 5\n",
      " Rank 3 of 5\n",
      " Rank 4 of 5\n",
      "reconstruction error=0.5213834010115009, variation=-1.3979096769811683e-05.\n",
      "Starting iteration 11\n",
      "Mode 0 of 3\n",
      " Rank 0 of 5\n",
      " Rank 1 of 5\n",
      " Rank 2 of 5\n",
      " Rank 3 of 5\n",
      " Rank 4 of 5\n",
      "Mode 1 of 3\n",
      " Rank 0 of 5\n",
      " Rank 1 of 5\n",
      " Rank 2 of 5\n",
      " Rank 3 of 5\n",
      " Rank 4 of 5\n",
      "Mode 2 of 3\n",
      " Rank 0 of 5\n",
      " Rank 1 of 5\n",
      " Rank 2 of 5\n",
      " Rank 3 of 5\n",
      " Rank 4 of 5\n",
      "reconstruction error=0.5213891178691858, variation=-5.716857684912036e-06.\n",
      "Starting iteration 12\n",
      "Mode 0 of 3\n",
      " Rank 0 of 5\n",
      " Rank 1 of 5\n",
      " Rank 2 of 5\n",
      " Rank 3 of 5\n",
      " Rank 4 of 5\n",
      "Mode 1 of 3\n",
      " Rank 0 of 5\n",
      " Rank 1 of 5\n",
      " Rank 2 of 5\n",
      " Rank 3 of 5\n",
      " Rank 4 of 5\n",
      "Mode 2 of 3\n",
      " Rank 0 of 5\n",
      " Rank 1 of 5\n",
      " Rank 2 of 5\n",
      " Rank 3 of 5\n",
      " Rank 4 of 5\n",
      "reconstruction error=0.5213914746459348, variation=-2.3567767489796054e-06.\n",
      "Starting iteration 13\n",
      "Mode 0 of 3\n",
      " Rank 0 of 5\n",
      " Rank 1 of 5\n",
      " Rank 2 of 5\n",
      " Rank 3 of 5\n",
      " Rank 4 of 5\n",
      "Mode 1 of 3\n",
      " Rank 0 of 5\n",
      " Rank 1 of 5\n",
      " Rank 2 of 5\n",
      " Rank 3 of 5\n",
      " Rank 4 of 5\n",
      "Mode 2 of 3\n",
      " Rank 0 of 5\n",
      " Rank 1 of 5\n",
      " Rank 2 of 5\n",
      " Rank 3 of 5\n",
      " Rank 4 of 5\n",
      "reconstruction error=0.5213924527199486, variation=-9.78074013779917e-07.\n",
      "Starting iteration 14\n",
      "Mode 0 of 3\n",
      " Rank 0 of 5\n",
      " Rank 1 of 5\n",
      " Rank 2 of 5\n",
      " Rank 3 of 5\n",
      " Rank 4 of 5\n",
      "Mode 1 of 3\n",
      " Rank 0 of 5\n",
      " Rank 1 of 5\n",
      " Rank 2 of 5\n",
      " Rank 3 of 5\n",
      " Rank 4 of 5\n",
      "Mode 2 of 3\n",
      " Rank 0 of 5\n",
      " Rank 1 of 5\n",
      " Rank 2 of 5\n",
      " Rank 3 of 5\n",
      " Rank 4 of 5\n",
      "reconstruction error=0.521392860918784, variation=-4.0819883539988666e-07.\n",
      "Starting iteration 15\n",
      "Mode 0 of 3\n",
      " Rank 0 of 5\n",
      " Rank 1 of 5\n",
      " Rank 2 of 5\n",
      " Rank 3 of 5\n",
      " Rank 4 of 5\n",
      "Mode 1 of 3\n",
      " Rank 0 of 5\n",
      " Rank 1 of 5\n",
      " Rank 2 of 5\n",
      " Rank 3 of 5\n",
      " Rank 4 of 5\n",
      "Mode 2 of 3\n",
      " Rank 0 of 5\n",
      " Rank 1 of 5\n",
      " Rank 2 of 5\n",
      " Rank 3 of 5\n",
      " Rank 4 of 5\n",
      "reconstruction error=0.5213930321083904, variation=-1.7118960637940717e-07.\n",
      "Starting iteration 16\n",
      "Mode 0 of 3\n",
      " Rank 0 of 5\n",
      " Rank 1 of 5\n",
      " Rank 2 of 5\n",
      " Rank 3 of 5\n",
      " Rank 4 of 5\n",
      "Mode 1 of 3\n",
      " Rank 0 of 5\n",
      " Rank 1 of 5\n",
      " Rank 2 of 5\n",
      " Rank 3 of 5\n",
      " Rank 4 of 5\n",
      "Mode 2 of 3\n",
      " Rank 0 of 5\n",
      " Rank 1 of 5\n",
      " Rank 2 of 5\n",
      " Rank 3 of 5\n",
      " Rank 4 of 5\n",
      "reconstruction error=0.5213931042066229, variation=-7.209823249532121e-08.\n",
      "Starting iteration 17\n",
      "Mode 0 of 3\n",
      " Rank 0 of 5\n",
      " Rank 1 of 5\n",
      " Rank 2 of 5\n",
      " Rank 3 of 5\n",
      " Rank 4 of 5\n",
      "Mode 1 of 3\n",
      " Rank 0 of 5\n",
      " Rank 1 of 5\n",
      " Rank 2 of 5\n",
      " Rank 3 of 5\n",
      " Rank 4 of 5\n",
      "Mode 2 of 3\n",
      " Rank 0 of 5\n",
      " Rank 1 of 5\n",
      " Rank 2 of 5\n",
      " Rank 3 of 5\n",
      " Rank 4 of 5\n",
      "reconstruction error=0.5213931346861178, variation=-3.047949492795965e-08.\n",
      "Starting iteration 18\n",
      "Mode 0 of 3\n",
      " Rank 0 of 5\n",
      " Rank 1 of 5\n",
      " Rank 2 of 5\n",
      " Rank 3 of 5\n",
      " Rank 4 of 5\n",
      "Mode 1 of 3\n",
      " Rank 0 of 5\n",
      " Rank 1 of 5\n",
      " Rank 2 of 5\n",
      " Rank 3 of 5\n",
      " Rank 4 of 5\n",
      "Mode 2 of 3\n",
      " Rank 0 of 5\n",
      " Rank 1 of 5\n",
      " Rank 2 of 5\n",
      " Rank 3 of 5\n",
      " Rank 4 of 5\n",
      "reconstruction error=0.5213931476151519, variation=-1.2929034065578549e-08.\n",
      "Starting iteration 19\n",
      "Mode 0 of 3\n",
      " Rank 0 of 5\n",
      " Rank 1 of 5\n",
      " Rank 2 of 5\n",
      " Rank 3 of 5\n",
      " Rank 4 of 5\n",
      "Mode 1 of 3\n",
      " Rank 0 of 5\n",
      " Rank 1 of 5\n",
      " Rank 2 of 5\n",
      " Rank 3 of 5\n",
      " Rank 4 of 5\n",
      "Mode 2 of 3\n",
      " Rank 0 of 5\n",
      " Rank 1 of 5\n",
      " Rank 2 of 5\n",
      " Rank 3 of 5\n",
      " Rank 4 of 5\n",
      "reconstruction error=0.5213931531165559, variation=-5.501403999019772e-09.\n",
      "converged in 19 iterations.\n",
      "Took 0 mins 29 secs\n",
      "peak memory: 135.08 MiB, increment: 27.68 MiB\n"
     ]
    }
   ],
   "source": [
    "%%memit\n",
    "start_time = time.time()\n",
    "factors = parafac(tensor*mask, rank=rank, init='random', verbose=True, mask=mask)\n",
    "end_time = time.time()\n",
    "total_time = end_time - start_time\n",
    "print('Took %d mins %d secs' % (divmod(total_time, 60)))"
   ]
  },
  {
   "cell_type": "markdown",
   "metadata": {},
   "source": [
    "Let's look at one of the values that was masked out."
   ]
  },
  {
   "cell_type": "code",
   "execution_count": 8,
   "metadata": {},
   "outputs": [
    {
     "data": {
      "text/plain": [
       "array([ 17,  39, 187])"
      ]
     },
     "execution_count": 8,
     "metadata": {},
     "output_type": "execute_result"
    }
   ],
   "source": [
    "mask.coords.T[0]"
   ]
  },
  {
   "cell_type": "code",
   "execution_count": 9,
   "metadata": {},
   "outputs": [
    {
     "data": {
      "text/plain": [
       "False"
      ]
     },
     "execution_count": 9,
     "metadata": {},
     "output_type": "execute_result"
    }
   ],
   "source": [
    "mask[tuple(mask.coords.T[0])]"
   ]
  },
  {
   "cell_type": "code",
   "execution_count": 10,
   "metadata": {},
   "outputs": [
    {
     "data": {
      "text/plain": [
       "0.043021395021524834"
      ]
     },
     "execution_count": 10,
     "metadata": {},
     "output_type": "execute_result"
    }
   ],
   "source": [
    "orig_val = tensor[tuple(mask.coords.T[0])]\n",
    "orig_val"
   ]
  },
  {
   "cell_type": "markdown",
   "metadata": {},
   "source": [
    "See the [sparse_demo.ipynb](sparse_demo.ipynb) for how to calculate individual values from the factors."
   ]
  },
  {
   "cell_type": "code",
   "execution_count": 11,
   "metadata": {},
   "outputs": [
    {
     "data": {
      "text/plain": [
       "0.043021394958195965"
      ]
     },
     "execution_count": 11,
     "metadata": {},
     "output_type": "execute_result"
    }
   ],
   "source": [
    "computed_val = np.sum(np.prod(sparse.stack([factors[i][idx] for i, idx in enumerate(tuple(mask.coords.T[0]))], 0), 0))\n",
    "computed_val"
   ]
  },
  {
   "cell_type": "code",
   "execution_count": 12,
   "metadata": {},
   "outputs": [
    {
     "data": {
      "text/plain": [
       "6.332886992588271e-11"
      ]
     },
     "execution_count": 12,
     "metadata": {},
     "output_type": "execute_result"
    }
   ],
   "source": [
    "np.abs(orig_val - computed_val)"
   ]
  },
  {
   "cell_type": "markdown",
   "metadata": {},
   "source": [
    "Obviously this is a constructed example, where we know the unmasked tensor has an exact factorization. But this demonstrates that given a tensor with missing values, which we have reason to believe is represented by a rank $r$ tensor decomposition, we should expect this decomposition to do a decent job at reconstructing those missing values (this may not be the case if the missing values are not randomly distributed across the tensor as we have here). \n",
    "\n",
    "Let's compare this to a value that was not masked"
   ]
  },
  {
   "cell_type": "code",
   "execution_count": 13,
   "metadata": {},
   "outputs": [
    {
     "data": {
      "text/plain": [
       "True"
      ]
     },
     "execution_count": 13,
     "metadata": {},
     "output_type": "execute_result"
    }
   ],
   "source": [
    "for i in tensor.coords.T:\n",
    "    non_missing_coord = tuple(i)\n",
    "    if mask[non_missing_coord]:\n",
    "        break\n",
    "        \n",
    "mask[non_missing_coord]"
   ]
  },
  {
   "cell_type": "code",
   "execution_count": 14,
   "metadata": {},
   "outputs": [
    {
     "data": {
      "text/plain": [
       "0.0005556706473032699"
      ]
     },
     "execution_count": 14,
     "metadata": {},
     "output_type": "execute_result"
    }
   ],
   "source": [
    "orig_val = tensor[non_missing_coord]\n",
    "orig_val"
   ]
  },
  {
   "cell_type": "code",
   "execution_count": 15,
   "metadata": {},
   "outputs": [
    {
     "data": {
      "text/plain": [
       "0.0005556706692669357"
      ]
     },
     "execution_count": 15,
     "metadata": {},
     "output_type": "execute_result"
    }
   ],
   "source": [
    "computed_val = np.sum(np.prod(sparse.stack([factors[i][idx] for i, idx in enumerate(non_missing_coord)], 0), 0))\n",
    "computed_val"
   ]
  },
  {
   "cell_type": "code",
   "execution_count": 16,
   "metadata": {},
   "outputs": [
    {
     "data": {
      "text/plain": [
       "2.1963665803627352e-11"
      ]
     },
     "execution_count": 16,
     "metadata": {},
     "output_type": "execute_result"
    }
   ],
   "source": [
    "np.abs(orig_val - computed_val)"
   ]
  },
  {
   "cell_type": "markdown",
   "metadata": {},
   "source": [
    "As before, we should not in general try to recompose a sparse factorization unless we can represent it densely, but since this was constructed explicitly from sparse factors, we are able to do it (being careful to use the `kruskal_to_tensor` from the sparse backend)."
   ]
  },
  {
   "cell_type": "code",
   "execution_count": 17,
   "metadata": {},
   "outputs": [
    {
     "data": {
      "text/plain": [
       "<COO: shape=(1000, 1001, 1002), dtype=float64, nnz=117542, fill_value=0.0>"
      ]
     },
     "execution_count": 17,
     "metadata": {},
     "output_type": "execute_result"
    }
   ],
   "source": [
    "expanded = kruskal_to_tensor(factors)\n",
    "expanded"
   ]
  },
  {
   "cell_type": "markdown",
   "metadata": {},
   "source": [
    "Now let's look at the absolute error, both including and not including missing values."
   ]
  },
  {
   "cell_type": "code",
   "execution_count": 18,
   "metadata": {},
   "outputs": [
    {
     "data": {
      "text/plain": [
       "3.3754655711956807"
      ]
     },
     "execution_count": 18,
     "metadata": {},
     "output_type": "execute_result"
    }
   ],
   "source": [
    "from tensorly.contrib.sparse import norm\n",
    "norm((tensor - expanded)*mask) # Absolute error of the non-missing values"
   ]
  },
  {
   "cell_type": "code",
   "execution_count": 19,
   "metadata": {},
   "outputs": [
    {
     "data": {
      "text/plain": [
       "4.2025499108159545"
      ]
     },
     "execution_count": 19,
     "metadata": {},
     "output_type": "execute_result"
    }
   ],
   "source": [
    "norm(tensor - expanded) # Absolute error including missing values"
   ]
  }
 ],
 "metadata": {
  "kernelspec": {
   "display_name": "Python [default]",
   "language": "python",
   "name": "python3"
  },
  "language_info": {
   "codemirror_mode": {
    "name": "ipython",
    "version": 3
   },
   "file_extension": ".py",
   "mimetype": "text/x-python",
   "name": "python",
   "nbconvert_exporter": "python",
   "pygments_lexer": "ipython3",
   "version": "3.5.5"
  }
 },
 "nbformat": 4,
 "nbformat_minor": 2
}
