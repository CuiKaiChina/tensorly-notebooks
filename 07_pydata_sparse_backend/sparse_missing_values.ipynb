{
 "cells": [
  {
   "cell_type": "markdown",
   "metadata": {},
   "source": [
    "# Sparse PARAFAC with missing values"
   ]
  },
  {
   "cell_type": "markdown",
   "metadata": {},
   "source": [
    "This notebook is based on [sparse_demo.ipynb](sparse_demo.ipynb#parafac). "
   ]
  },
  {
   "cell_type": "markdown",
   "metadata": {},
   "source": [
    "As before, we start with a random sparse tensor, constructed so that it has a tensor factorization of rank 5.\n",
    "\n",
    "Because masked PARAFAC can take longer to converge than non-masked PARAFAC, we will use a smaller tensor than in the other notebook."
   ]
  },
  {
   "cell_type": "code",
   "execution_count": 1,
   "metadata": {},
   "outputs": [],
   "source": [
    "shape = (1000, 1001, 1002)\n",
    "rank = 5\n",
    "\n",
    "import sparse\n",
    "starting_factors = [sparse.random((i, rank)) for i in shape]\n",
    "starting_factors\n",
    "starting_weights = sparse.ones(rank)"
   ]
  },
  {
   "cell_type": "code",
   "execution_count": 2,
   "metadata": {},
   "outputs": [
    {
     "data": {
      "text/html": [
       "<table><tbody><tr><th style=\"text-align: left\">Format</th><td style=\"text-align: left\">coo</td></tr><tr><th style=\"text-align: left\">Data Type</th><td style=\"text-align: left\">float64</td></tr><tr><th style=\"text-align: left\">Shape</th><td style=\"text-align: left\">(1000, 1001, 1002)</td></tr><tr><th style=\"text-align: left\">nnz</th><td style=\"text-align: left\">4333</td></tr><tr><th style=\"text-align: left\">Density</th><td style=\"text-align: left\">4.3200312661390505e-06</td></tr><tr><th style=\"text-align: left\">Read-only</th><td style=\"text-align: left\">True</td></tr><tr><th style=\"text-align: left\">Size</th><td style=\"text-align: left\">135.4K</td></tr><tr><th style=\"text-align: left\">Storage ratio</th><td style=\"text-align: left\">0.0</td></tr></tbody></table>"
      ],
      "text/plain": [
       "<COO: shape=(1000, 1001, 1002), dtype=float64, nnz=4333, fill_value=0.0>"
      ]
     },
     "execution_count": 2,
     "metadata": {},
     "output_type": "execute_result"
    }
   ],
   "source": [
    "from tensorly.contrib.sparse.kruskal_tensor import kruskal_to_tensor\n",
    "tensor = kruskal_to_tensor((starting_weights, starting_factors))\n",
    "tensor"
   ]
  },
  {
   "cell_type": "markdown",
   "metadata": {},
   "source": [
    "Let's write a small convenience function to check the size of a tensor"
   ]
  },
  {
   "cell_type": "code",
   "execution_count": 3,
   "metadata": {},
   "outputs": [],
   "source": [
    "def format_size(size_bytes):\n",
    "    size = size_bytes\n",
    "    for unit in ['B', 'KiB', 'MiB', 'GiB', 'TiB']:\n",
    "        if not int(size/1024):\n",
    "            return f'{round(size)}.{unit}'\n",
    "        else:\n",
    "            size /= 1024"
   ]
  },
  {
   "cell_type": "code",
   "execution_count": 4,
   "metadata": {},
   "outputs": [
    {
     "data": {
      "text/plain": [
       "'135.KiB'"
      ]
     },
     "execution_count": 4,
     "metadata": {},
     "output_type": "execute_result"
    }
   ],
   "source": [
    "format_size(tensor.nbytes)                      # Actual memory usage"
   ]
  },
  {
   "cell_type": "code",
   "execution_count": 5,
   "metadata": {},
   "outputs": [
    {
     "data": {
      "text/plain": [
       "'7.0.GiB'"
      ]
     },
     "execution_count": 5,
     "metadata": {},
     "output_type": "execute_result"
    }
   ],
   "source": [
    "import numpy as np\n",
    "format_size(np.prod(tensor.shape) * 8)    # Memory usage if array was dense, in GB"
   ]
  },
  {
   "cell_type": "markdown",
   "metadata": {},
   "source": [
    "Now let's construct a random mask. A mask should be a boolean array of the same shape as the tensor, that is `False` (`0`) where there are missing values and `True` (`1`) where elements are not missing. \n",
    "\n",
    "It is important that the mask array have a fill value of `True`, that is, the zero entries of the original `tensor` should be considered non-missing. This is because internally the parafac algorithm generates dense arrays with as many elements as are False in the mask."
   ]
  },
  {
   "cell_type": "code",
   "execution_count": 6,
   "metadata": {},
   "outputs": [
    {
     "data": {
      "text/html": [
       "<table><tbody><tr><th style=\"text-align: left\">Format</th><td style=\"text-align: left\">coo</td></tr><tr><th style=\"text-align: left\">Data Type</th><td style=\"text-align: left\">bool</td></tr><tr><th style=\"text-align: left\">Shape</th><td style=\"text-align: left\">(1000, 1001, 1002)</td></tr><tr><th style=\"text-align: left\">nnz</th><td style=\"text-align: left\">1308</td></tr><tr><th style=\"text-align: left\">Density</th><td style=\"text-align: left\">1.3040851364204657e-06</td></tr><tr><th style=\"text-align: left\">Read-only</th><td style=\"text-align: left\">True</td></tr><tr><th style=\"text-align: left\">Size</th><td style=\"text-align: left\">31.9K</td></tr><tr><th style=\"text-align: left\">Storage ratio</th><td style=\"text-align: left\">0.0</td></tr></tbody></table>"
      ],
      "text/plain": [
       "<COO: shape=(1000, 1001, 1002), dtype=bool, nnz=1308, fill_value=True>"
      ]
     },
     "execution_count": 6,
     "metadata": {},
     "output_type": "execute_result"
    }
   ],
   "source": [
    "import sparse\n",
    "missing_p = 0.3 # The fraction of nonzero entries from tensor which should be considered missing. The larger this number is, the harder it will be for PARAFAC to reconstruct the factors (meaning it may take more iterations to converge).\n",
    "\n",
    "mask = sparse.COO(coords=tensor.coords, data=np.random.choice([False, True], size=tensor.nnz, p=[missing_p, 1-missing_p]), shape=tensor.shape, fill_value=True)\n",
    "# This clears the True values from the mask.data\n",
    "mask = sparse.elemwise(lambda x: x, mask)\n",
    "mask"
   ]
  },
  {
   "cell_type": "markdown",
   "metadata": {},
   "source": [
    "Now we factor the tensor. In order to demonstrate that there are no tricks up our sleeve, we multiply the tensor by the mask to clear the \"missing\" values. The mask is passed in as a keyword argument to `parafac()`. \n",
    "\n",
    "Note that at this time, you have to use the `parafac` function from the sparse backend when using a sparse mask to avoid memory blowups."
   ]
  },
  {
   "cell_type": "code",
   "execution_count": 7,
   "metadata": {},
   "outputs": [],
   "source": [
    "import time\n",
    "%load_ext memory_profiler\n",
    "from tensorly.contrib.sparse.decomposition import parafac"
   ]
  },
  {
   "cell_type": "code",
   "execution_count": 8,
   "metadata": {},
   "outputs": [
    {
     "name": "stdout",
     "output_type": "stream",
     "text": [
      "reconstruction error=0.7789379124954272\n",
      "iteration 1, reconstruction error: 0.3746858463502901, decrease = 0.4042520661451371, unnormalized = 4.384136188477398\n",
      "iteration 2, reconstruction error: 0.11111588585391206, decrease = 0.26356996049637804, unnormalized = 1.370344245287581\n",
      "iteration 3, reconstruction error: 0.05373554716055571, decrease = 0.057380338693356354, unnormalized = 0.6784614757511758\n",
      "iteration 4, reconstruction error: 0.03016844938635332, decrease = 0.02356709777420239, unnormalized = 0.3851107331246007\n",
      "iteration 5, reconstruction error: 0.01891384074740414, decrease = 0.011254608638949181, unnormalized = 0.24277489265036745\n",
      "iteration 6, reconstruction error: 0.012832279270217215, decrease = 0.006081561477186925, unnormalized = 0.1652022932350486\n",
      "iteration 7, reconstruction error: 0.009175301957981115, decrease = 0.0036569773122361003, unnormalized = 0.11832459921574907\n",
      "iteration 8, reconstruction error: 0.006787446708436944, decrease = 0.0023878552495441713, unnormalized = 0.0876225190422443\n",
      "iteration 9, reconstruction error: 0.005134034861396274, decrease = 0.0016534118470406698, unnormalized = 0.06632258749827068\n",
      "iteration 10, reconstruction error: 0.0039416868032967735, decrease = 0.0011923480580995002, unnormalized = 0.05094275678231311\n",
      "iteration 11, reconstruction error: 0.0030572820500220643, decrease = 0.0008844047532747092, unnormalized = 0.03952517495977039\n",
      "iteration 12, reconstruction error: 0.0023882426919449103, decrease = 0.000669039358077154, unnormalized = 0.030882734406386794\n",
      "iteration 13, reconstruction error: 0.0018750298888459275, decrease = 0.0005132128030989828, unnormalized = 0.024250353579130024\n",
      "iteration 14, reconstruction error: 0.0014774225669411522, decrease = 0.0003976073219047753, unnormalized = 0.019110354691489844\n",
      "iteration 15, reconstruction error: 0.001167174251709241, decrease = 0.00031024831523191127, unnormalized = 0.015098737413392039\n",
      "iteration 16, reconstruction error: 0.0009238379278091793, decrease = 0.00024333632390006164, unnormalized = 0.011951762764095967\n",
      "iteration 17, reconstruction error: 0.0007322629183486887, decrease = 0.00019157500946049059, unnormalized = 0.009473866687856436\n",
      "iteration 18, reconstruction error: 0.0005810216794034794, decrease = 0.0001512412389452093, unnormalized = 0.007517461272069278\n",
      "iteration 19, reconstruction error: 0.00046137852178730203, decrease = 0.00011964315761617733, unnormalized = 0.005969675823840141\n",
      "iteration 20, reconstruction error: 0.0003665880419106599, decrease = 9.479047987664215e-05, unnormalized = 0.004743326473931266\n",
      "iteration 21, reconstruction error: 0.0002914023779412699, decrease = 7.518566396939001e-05, unnormalized = 0.003770567484063962\n",
      "iteration 22, reconstruction error: 0.00023171576009435336, decrease = 5.9686617846916516e-05, unnormalized = 0.002998307723857755\n",
      "iteration 23, reconstruction error: 0.00018430244466902484, decrease = 4.741331542532852e-05, unnormalized = 0.0023848290177571644\n",
      "iteration 24, reconstruction error: 0.0001466201012436588, decrease = 3.7682343425366035e-05, unnormalized = 0.0018972476630676966\n",
      "iteration 25, reconstruction error: 0.00011666027304050595, decrease = 2.9959828203152857e-05, unnormalized = 0.001509582831778907\n",
      "iteration 26, reconstruction error: 9.283342649201192e-05, decrease = 2.3826846548494023e-05, unnormalized = 0.001201271213285855\n",
      "iteration 27, reconstruction error: 7.387986489048382e-05, decrease = 1.8953561601528106e-05, unnormalized = 0.0009560155257201076\n",
      "iteration 28, reconstruction error: 5.8800253694294026e-05, decrease = 1.5079611196189792e-05, unnormalized = 0.0007608863066976625\n",
      "iteration 29, reconstruction error: 4.680118081225892e-05, decrease = 1.1999072882035108e-05, unnormalized = 0.0006056179528430247\n",
      "iteration 30, reconstruction error: 3.725234235073428e-05, decrease = 9.54883846152464e-06, unnormalized = 0.00048205500562512597\n",
      "iteration 31, reconstruction error: 2.965277729842016e-05, decrease = 7.599565052314119e-06, unnormalized = 0.0003837154147821289\n",
      "iteration 32, reconstruction error: 2.3604181776916188e-05, decrease = 6.04859552150397e-06, unnormalized = 0.00030544533971506565\n",
      "iteration 33, reconstruction error: 1.8789783953286533e-05, decrease = 4.814397823629655e-06, unnormalized = 0.000243145861475871\n",
      "iteration 34, reconstruction error: 1.4957599852930419e-05, decrease = 3.8321841003561145e-06, unnormalized = 0.00019355635612129334\n",
      "iteration 35, reconstruction error: 1.1907148684568055e-05, decrease = 3.050451168362364e-06, unnormalized = 0.00015408261715640906\n",
      "iteration 36, reconstruction error: 9.478905000583755e-06, decrease = 2.4282436839842998e-06, unnormalized = 0.00012266038214679055\n",
      "iteration 37, reconstruction error: 7.5459189971548895e-06, decrease = 1.9329860034288656e-06, unnormalized = 9.764690862643137e-05\n",
      "iteration 38, reconstruction error: 6.00715628057112e-06, decrease = 1.5387627165837694e-06, unnormalized = 7.773479597612536e-05\n",
      "iteration 39, reconstruction error: 4.782202414738433e-06, decrease = 1.2249538658326867e-06, unnormalized = 6.188346520210496e-05\n",
      "iteration 40, reconstruction error: 3.807051431830509e-06, decrease = 9.751509829079243e-07, unnormalized = 4.9264663787210203e-05\n",
      "iteration 41, reconstruction error: 3.030755704566691e-06, decrease = 7.762957272638181e-07, unnormalized = 3.9219115737813124e-05\n",
      "iteration 42, reconstruction error: 2.4127605619164325e-06, decrease = 6.179951426502585e-07, unnormalized = 3.1222031743771023e-05\n",
      "iteration 43, reconstruction error: 1.920783412640018e-06, decrease = 4.919771492764145e-07, unnormalized = 2.4855665017309302e-05\n",
      "iteration 44, reconstruction error: 1.529125965598365e-06, decrease = 3.9165744704165296e-07, unnormalized = 1.9787471278440693e-05\n",
      "iteration 45, reconstruction error: 1.2173309970205627e-06, decrease = 3.1179496857780234e-07, unnormalized = 1.575272712560926e-05\n",
      "iteration 46, reconstruction error: 9.691132593738387e-07, decrease = 2.4821773764672393e-07, unnormalized = 1.254069578706782e-05\n",
      "iteration 47, reconstruction error: 7.715085398004899e-07, decrease = 1.9760471957334886e-07, unnormalized = 9.9836157374721e-06\n",
      "iteration 48, reconstruction error: 6.141963271031174e-07, decrease = 1.573122126973725e-07, unnormalized = 7.947935828967493e-06\n",
      "iteration 49, reconstruction error: 4.889606514316375e-07, decrease = 1.2523567567147987e-07, unnormalized = 6.327338400495441e-06\n",
      "iteration 50, reconstruction error: 3.8926089866857116e-07, decrease = 9.969975276306633e-08, unnormalized = 5.0371854832040085e-06\n",
      "iteration 51, reconstruction error: 3.098901617745639e-07, decrease = 7.937073689400725e-08, unnormalized = 4.010097755899949e-06\n",
      "iteration 52, reconstruction error: 2.4670327003405195e-07, decrease = 6.318689174051196e-08, unnormalized = 3.1924351518027313e-06\n",
      "iteration 53, reconstruction error: 1.964002835697961e-07, decrease = 5.0302986464255846e-08, unnormalized = 2.541495202449816e-06\n",
      "iteration 54, reconstruction error: 1.5635413969440695e-07, decrease = 4.004614387538915e-08, unnormalized = 2.0232827203432975e-06\n",
      "iteration 55, reconstruction error: 1.2447344598733692e-07, decrease = 3.1880693707070034e-08, unnormalized = 1.6107342918388058e-06\n",
      "iteration 56, reconstruction error: 9.90932529718058e-08, decrease = 2.538019301553112e-08, unnormalized = 1.2823048356164946e-06\n",
      "iteration 57, reconstruction error: 7.888809932214354e-08, decrease = 2.0205153649662254e-08, unnormalized = 1.020842375502881e-06\n",
      "iteration 58, reconstruction error: 6.28027885392408e-08, decrease = 1.6085310782902747e-08, unnormalized = 8.126922648310165e-07\n",
      "iteration 59, reconstruction error: 4.999728071753559e-08, decrease = 1.2805507821705207e-08, unnormalized = 6.469840652124187e-07\n",
      "iteration 60, reconstruction error: 3.980282148202774e-08, decrease = 1.0194459235507852e-08, unnormalized = 5.1506383842146e-07\n",
      "iteration 61, reconstruction error: 3.16870162903476e-08, decrease = 8.11580519168014e-09, unnormalized = 4.1004219462501376e-07\n",
      "PARAFAC converged after 61 iterations\n",
      "Took 0 mins 48 secs\n",
      "peak memory: 167.89 MiB, increment: 34.43 MiB\n"
     ]
    }
   ],
   "source": [
    "%%memit\n",
    "start_time = time.time()\n",
    "sparse_kruskal = parafac(tensor*mask, rank=rank, init='random', verbose=True, mask=mask)\n",
    "end_time = time.time()\n",
    "total_time = end_time - start_time\n",
    "print('Took %d mins %d secs' % (divmod(total_time, 60)))"
   ]
  },
  {
   "cell_type": "markdown",
   "metadata": {},
   "source": [
    "Let's look at one of the values that was masked out."
   ]
  },
  {
   "cell_type": "code",
   "execution_count": 9,
   "metadata": {},
   "outputs": [
    {
     "data": {
      "text/plain": [
       "array([  8, 171,  52])"
      ]
     },
     "execution_count": 9,
     "metadata": {},
     "output_type": "execute_result"
    }
   ],
   "source": [
    "mask.coords.T[0]"
   ]
  },
  {
   "cell_type": "code",
   "execution_count": 10,
   "metadata": {},
   "outputs": [
    {
     "data": {
      "text/plain": [
       "False"
      ]
     },
     "execution_count": 10,
     "metadata": {},
     "output_type": "execute_result"
    }
   ],
   "source": [
    "mask[tuple(mask.coords.T[0])]"
   ]
  },
  {
   "cell_type": "code",
   "execution_count": 11,
   "metadata": {},
   "outputs": [
    {
     "data": {
      "text/plain": [
       "0.2679392475736422"
      ]
     },
     "execution_count": 11,
     "metadata": {},
     "output_type": "execute_result"
    }
   ],
   "source": [
    "orig_val = tensor[tuple(mask.coords.T[0])]\n",
    "orig_val"
   ]
  },
  {
   "cell_type": "markdown",
   "metadata": {},
   "source": [
    "See the [sparse_demo.ipynb](sparse_demo.ipynb) for how to calculate individual values from the factors."
   ]
  },
  {
   "cell_type": "code",
   "execution_count": 12,
   "metadata": {},
   "outputs": [
    {
     "data": {
      "text/plain": [
       "0.26793924757364224"
      ]
     },
     "execution_count": 12,
     "metadata": {},
     "output_type": "execute_result"
    }
   ],
   "source": [
    "weights, factors = sparse_kruskal\n",
    "computed_val = np.sum(np.prod(sparse.stack([factors[i][idx] for i, idx in enumerate(tuple(mask.coords.T[0]))], 0), 0))\n",
    "computed_val"
   ]
  },
  {
   "cell_type": "code",
   "execution_count": 13,
   "metadata": {},
   "outputs": [
    {
     "data": {
      "text/plain": [
       "5.551115123125783e-17"
      ]
     },
     "execution_count": 13,
     "metadata": {},
     "output_type": "execute_result"
    }
   ],
   "source": [
    "np.abs(orig_val - computed_val)"
   ]
  },
  {
   "cell_type": "markdown",
   "metadata": {},
   "source": [
    "Obviously this is a constructed example, where we know the unmasked tensor has an exact factorization. But this demonstrates that given a tensor with missing values, which we have reason to believe is represented by a rank $r$ tensor decomposition, we should expect this decomposition to do a decent job at reconstructing those missing values (this may not be the case if the missing values are not randomly distributed across the tensor as we have here). \n",
    "\n",
    "Let's compare this to a value that was not masked"
   ]
  },
  {
   "cell_type": "code",
   "execution_count": 14,
   "metadata": {},
   "outputs": [
    {
     "data": {
      "text/plain": [
       "True"
      ]
     },
     "execution_count": 14,
     "metadata": {},
     "output_type": "execute_result"
    }
   ],
   "source": [
    "for i in tensor.coords.T:\n",
    "    non_missing_coord = tuple(i)\n",
    "    if mask[non_missing_coord]:\n",
    "        break\n",
    "        \n",
    "mask[non_missing_coord]"
   ]
  },
  {
   "cell_type": "code",
   "execution_count": 15,
   "metadata": {},
   "outputs": [
    {
     "data": {
      "text/plain": [
       "0.5505596473797855"
      ]
     },
     "execution_count": 15,
     "metadata": {},
     "output_type": "execute_result"
    }
   ],
   "source": [
    "orig_val = tensor[non_missing_coord]\n",
    "orig_val"
   ]
  },
  {
   "cell_type": "code",
   "execution_count": 16,
   "metadata": {},
   "outputs": [
    {
     "data": {
      "text/plain": [
       "0.5505596473797855"
      ]
     },
     "execution_count": 16,
     "metadata": {},
     "output_type": "execute_result"
    }
   ],
   "source": [
    "computed_val = np.sum(np.prod(sparse.stack([factors[i][idx] for i, idx in enumerate(non_missing_coord)], 0), 0))\n",
    "computed_val"
   ]
  },
  {
   "cell_type": "code",
   "execution_count": 17,
   "metadata": {},
   "outputs": [
    {
     "data": {
      "text/plain": [
       "0.0"
      ]
     },
     "execution_count": 17,
     "metadata": {},
     "output_type": "execute_result"
    }
   ],
   "source": [
    "np.abs(orig_val - computed_val)"
   ]
  },
  {
   "cell_type": "markdown",
   "metadata": {},
   "source": [
    "As before, we should not in general try to recompose a sparse factorization unless we can represent it densely, but since this was constructed explicitly from sparse factors, we are able to do it (being careful to use the `kruskal_to_tensor` from the sparse backend)."
   ]
  },
  {
   "cell_type": "code",
   "execution_count": 18,
   "metadata": {},
   "outputs": [
    {
     "data": {
      "text/html": [
       "<table><tbody><tr><th style=\"text-align: left\">Format</th><td style=\"text-align: left\">coo</td></tr><tr><th style=\"text-align: left\">Data Type</th><td style=\"text-align: left\">float64</td></tr><tr><th style=\"text-align: left\">Shape</th><td style=\"text-align: left\">(1000, 1001, 1002)</td></tr><tr><th style=\"text-align: left\">nnz</th><td style=\"text-align: left\">23193</td></tr><tr><th style=\"text-align: left\">Density</th><td style=\"text-align: left\">2.3123583003822524e-05</td></tr><tr><th style=\"text-align: left\">Read-only</th><td style=\"text-align: left\">True</td></tr><tr><th style=\"text-align: left\">Size</th><td style=\"text-align: left\">724.8K</td></tr><tr><th style=\"text-align: left\">Storage ratio</th><td style=\"text-align: left\">0.0</td></tr></tbody></table>"
      ],
      "text/plain": [
       "<COO: shape=(1000, 1001, 1002), dtype=float64, nnz=23193, fill_value=0.0>"
      ]
     },
     "execution_count": 18,
     "metadata": {},
     "output_type": "execute_result"
    }
   ],
   "source": [
    "expanded = kruskal_to_tensor((weights, factors))\n",
    "expanded"
   ]
  },
  {
   "cell_type": "markdown",
   "metadata": {},
   "source": [
    "Now let's look at the absolute error, both including and not including missing values."
   ]
  },
  {
   "cell_type": "code",
   "execution_count": 19,
   "metadata": {},
   "outputs": [
    {
     "data": {
      "text/plain": [
       "4.1004219462501376e-07"
      ]
     },
     "execution_count": 19,
     "metadata": {},
     "output_type": "execute_result"
    }
   ],
   "source": [
    "from tensorly.contrib.sparse import norm\n",
    "norm((tensor - expanded)*mask) # Absolute error of the non-missing values"
   ]
  },
  {
   "cell_type": "code",
   "execution_count": 20,
   "metadata": {},
   "outputs": [
    {
     "data": {
      "text/plain": [
       "9.080708426878773e-07"
      ]
     },
     "execution_count": 20,
     "metadata": {},
     "output_type": "execute_result"
    }
   ],
   "source": [
    "norm(tensor - expanded) # Absolute error including missing values"
   ]
  }
 ],
 "metadata": {
  "kernelspec": {
   "display_name": "Python 3",
   "language": "python",
   "name": "python3"
  },
  "language_info": {
   "codemirror_mode": {
    "name": "ipython",
    "version": 3
   },
   "file_extension": ".py",
   "mimetype": "text/x-python",
   "name": "python",
   "nbconvert_exporter": "python",
   "pygments_lexer": "ipython3",
   "version": "3.7.7"
  }
 },
 "nbformat": 4,
 "nbformat_minor": 4
}
