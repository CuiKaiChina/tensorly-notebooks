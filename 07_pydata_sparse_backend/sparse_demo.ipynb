{
 "cells": [
  {
   "cell_type": "markdown",
   "metadata": {},
   "source": [
    "# Investigating the NIPS Sparse Dataset on FROSTT"
   ]
  },
  {
   "cell_type": "markdown",
   "metadata": {},
   "source": [
    "In this notebook we inspect data from the [NIPS](http://frostt.io/tensors/nips/) dataset from the [FROSTT sparse tensor repository](http://frostt.io).\n",
    "\n",
    "The dataset includes a 4-mode (4-dimensions) sparse tensor of all papers published from NIPS between 1987 and 2003. The axis are:\n",
    "\n",
    "- Papers\n",
    "- Authors\n",
    "- Words (stopwords filtered out)\n",
    "- Years\n",
    "\n",
    "The values in the tensor indicate wordcount at each `(paper, author, word, year)` index."
   ]
  },
  {
   "cell_type": "markdown",
   "metadata": {},
   "source": [
    "## Load the Data\n",
    "\n",
    "Datsets on on `FROSTT` are stored in a custom format, we'll download and parse them here. The sparse tensor is stored in one file, and axis information for each mode is stored in additional individual files."
   ]
  },
  {
   "cell_type": "code",
   "execution_count": 1,
   "metadata": {},
   "outputs": [],
   "source": [
    "import gzip\n",
    "import os\n",
    "from urllib.request import urlretrieve\n",
    "import numpy as np\n",
    "import sparse\n",
    "import pandas as pd\n",
    "%matplotlib inline\n",
    "\n",
    "def download_files():\n",
    "    \"Download the file if they don't already exist.\"\n",
    "    for filename in ['nips.tns.gz',\n",
    "                     'mode-1-papers.map.gz',\n",
    "                     'mode-2-authors.map.gz',\n",
    "                     'mode-3-words.map.gz',\n",
    "                     'mode-4-years.map.gz']:\n",
    "        url = 'https://s3.us-east-2.amazonaws.com/frostt/frostt_data/nips/' + filename\n",
    "        if not os.path.exists(filename):\n",
    "            urlretrieve(url, filename)\n",
    "\n",
    "            \n",
    "def load_data(path):\n",
    "    \"\"\"Load the sparse tensor dataset at `path`\"\"\"\n",
    "    values = []\n",
    "    coords = []\n",
    "    with gzip.open(path, 'rb') as f:\n",
    "        for line in f:\n",
    "            data = line.strip().split(b' ')\n",
    "            coords.append([int(i) - 1 for i in data[:-1]])\n",
    "            values.append(float(data[-1]))\n",
    "    coords = np.array(coords, dtype=np.int32).T\n",
    "    values = np.array(values, dtype=np.float64)\n",
    "    return sparse.COO(coords, data=values)\n",
    "\n",
    "\n",
    "def load_mode(path):\n",
    "    \"\"\"Load the axis information for the mode file at `path`\"\"\"\n",
    "    with gzip.open(path, 'rt') as f:\n",
    "        return pd.Series(f.read().splitlines())"
   ]
  },
  {
   "cell_type": "code",
   "execution_count": 2,
   "metadata": {},
   "outputs": [],
   "source": [
    "download_files()\n",
    "\n",
    "tensor = load_data('nips.tns.gz')\n",
    "papers = load_mode('mode-1-papers.map.gz')\n",
    "authors = load_mode('mode-2-authors.map.gz')\n",
    "words = load_mode('mode-3-words.map.gz')\n",
    "years = load_mode('mode-4-years.map.gz')"
   ]
  },
  {
   "cell_type": "markdown",
   "metadata": {},
   "source": [
    "## Inspect the Data\n",
    "\n",
    "After loading the data, we should inspect the dataset before performing any analysis."
   ]
  },
  {
   "cell_type": "code",
   "execution_count": 3,
   "metadata": {},
   "outputs": [
    {
     "data": {
      "text/plain": [
       "<COO: shape=(2482, 2862, 14036, 17), dtype=float64, nnz=3101609, fill_value=0.0>"
      ]
     },
     "execution_count": 3,
     "metadata": {},
     "output_type": "execute_result"
    }
   ],
   "source": [
    "tensor"
   ]
  },
  {
   "cell_type": "markdown",
   "metadata": {},
   "source": [
    "The tensor was loaded as an instance of `sparse.COO`, from the [sparse](http://sparse.pydata.org/en/latest/) library. This library supports n-dimensional sparse arrays in python, with a `numpy`-like interface.\n",
    "\n",
    "To get the *actual* memory used by the sparse array, we can look at the `nbytes` attribute:"
   ]
  },
  {
   "cell_type": "code",
   "execution_count": 4,
   "metadata": {},
   "outputs": [
    {
     "data": {
      "text/plain": [
       "0.12406436"
      ]
     },
     "execution_count": 4,
     "metadata": {},
     "output_type": "execute_result"
    }
   ],
   "source": [
    "tensor.nbytes / 1e9                # Actual memory usage in GB"
   ]
  },
  {
   "cell_type": "markdown",
   "metadata": {},
   "source": [
    "If this was a dense array, the data would take a much larger amount of memory. We can calculate this as:"
   ]
  },
  {
   "cell_type": "code",
   "execution_count": 5,
   "metadata": {},
   "outputs": [
    {
     "data": {
      "text/plain": [
       "13559.812193664"
      ]
     },
     "execution_count": 5,
     "metadata": {},
     "output_type": "execute_result"
    }
   ],
   "source": [
    "np.prod(tensor.shape) * 8 / 1e9    # Memory usage if array was dense, in GB"
   ]
  },
  {
   "cell_type": "markdown",
   "metadata": {},
   "source": [
    "Looking at the density of the array (fraction of elements that are non-zero):"
   ]
  },
  {
   "cell_type": "code",
   "execution_count": 6,
   "metadata": {},
   "outputs": [
    {
     "name": "stdout",
     "output_type": "stream",
     "text": [
      "Sparse array has 3101609 non-zero elements, with a density of 1.83e-06\n"
     ]
    }
   ],
   "source": [
    "print('Sparse array has %d non-zero elements, with a density of %.2e'\n",
    "      % (tensor.nnz, tensor.density))"
   ]
  },
  {
   "cell_type": "markdown",
   "metadata": {},
   "source": [
    "We can inspect the dimensionality of the tensor:"
   ]
  },
  {
   "cell_type": "code",
   "execution_count": 7,
   "metadata": {},
   "outputs": [
    {
     "data": {
      "text/plain": [
       "(2482, 2862, 14036, 17)"
      ]
     },
     "execution_count": 7,
     "metadata": {},
     "output_type": "execute_result"
    }
   ],
   "source": [
    "tensor.shape"
   ]
  },
  {
   "cell_type": "markdown",
   "metadata": {},
   "source": [
    "Like `numpy` arrays, `sparse` arrays support many of the common methods:"
   ]
  },
  {
   "cell_type": "code",
   "execution_count": 8,
   "metadata": {},
   "outputs": [
    {
     "data": {
      "text/plain": [
       "160.0"
      ]
     },
     "execution_count": 8,
     "metadata": {},
     "output_type": "execute_result"
    }
   ],
   "source": [
    "# The most frequently a word has been used in a single paper\n",
    "tensor.max()"
   ]
  },
  {
   "cell_type": "code",
   "execution_count": 9,
   "metadata": {},
   "outputs": [
    {
     "data": {
      "text/plain": [
       "4.597517363045033e-06"
      ]
     },
     "execution_count": 9,
     "metadata": {},
     "output_type": "execute_result"
    }
   ],
   "source": [
    "# The average number of times a word is used in a single paper\n",
    "tensor.mean()"
   ]
  },
  {
   "cell_type": "markdown",
   "metadata": {},
   "source": [
    "### Total word-count per author\n",
    "\n",
    "We can compute the total number of words-per-author over the whole dataset by summing along 3 of the 4 axis. Here we determine the wordiest authors, and make a plot of word count per author for the whole dataset."
   ]
  },
  {
   "cell_type": "code",
   "execution_count": 10,
   "metadata": {},
   "outputs": [],
   "source": [
    "total_words = pd.Series(tensor.sum(axis=(0, 2, 3)),\n",
    "                        name='total_words',\n",
    "                        index=authors)"
   ]
  },
  {
   "cell_type": "code",
   "execution_count": 11,
   "metadata": {},
   "outputs": [
    {
     "data": {
      "text/html": [
       "<div>\n",
       "<style scoped>\n",
       "    .dataframe tbody tr th:only-of-type {\n",
       "        vertical-align: middle;\n",
       "    }\n",
       "\n",
       "    .dataframe tbody tr th {\n",
       "        vertical-align: top;\n",
       "    }\n",
       "\n",
       "    .dataframe thead th {\n",
       "        text-align: right;\n",
       "    }\n",
       "</style>\n",
       "<table border=\"1\" class=\"dataframe\">\n",
       "  <thead>\n",
       "    <tr style=\"text-align: right;\">\n",
       "      <th></th>\n",
       "      <th>total_words</th>\n",
       "    </tr>\n",
       "  </thead>\n",
       "  <tbody>\n",
       "    <tr>\n",
       "      <th>Sejnowski_T</th>\n",
       "      <td>67793.0</td>\n",
       "    </tr>\n",
       "    <tr>\n",
       "      <th>Jordan_M</th>\n",
       "      <td>60068.0</td>\n",
       "    </tr>\n",
       "    <tr>\n",
       "      <th>Hinton_G</th>\n",
       "      <td>48792.0</td>\n",
       "    </tr>\n",
       "    <tr>\n",
       "      <th>Dayan_P</th>\n",
       "      <td>41006.0</td>\n",
       "    </tr>\n",
       "    <tr>\n",
       "      <th>Koch_C</th>\n",
       "      <td>39737.0</td>\n",
       "    </tr>\n",
       "  </tbody>\n",
       "</table>\n",
       "</div>"
      ],
      "text/plain": [
       "             total_words\n",
       "Sejnowski_T      67793.0\n",
       "Jordan_M         60068.0\n",
       "Hinton_G         48792.0\n",
       "Dayan_P          41006.0\n",
       "Koch_C           39737.0"
      ]
     },
     "execution_count": 11,
     "metadata": {},
     "output_type": "execute_result"
    }
   ],
   "source": [
    "total_words.nlargest().to_frame()"
   ]
  },
  {
   "cell_type": "code",
   "execution_count": 12,
   "metadata": {},
   "outputs": [
    {
     "data": {
      "image/png": "[encoded data removed]",
      "text/plain": [
       "<Figure size 432x288 with 1 Axes>"
      ]
     },
     "metadata": {
      "needs_background": "light"
     },
     "output_type": "display_data"
    }
   ],
   "source": [
    "(total_words\n",
    " .plot.hist(bins=50, title='Total Words per Author in NIPS over 17 Years', logy=True)\n",
    " .set(xlabel='Word Count', ylabel='Author Count'));"
   ]
  },
  {
   "cell_type": "markdown",
   "metadata": {},
   "source": [
    "### Total word-count per word\n",
    "\n",
    "We can compute the frequency  over the whole dataset by summing along 3 of the 4 axis. Here we determine the frequency of each word in the whole dataset, and make a plot of word frequency."
   ]
  },
  {
   "cell_type": "code",
   "execution_count": 13,
   "metadata": {},
   "outputs": [],
   "source": [
    "word_frequencies = pd.Series(tensor.sum(axis=(0, 1, 3)),\n",
    "                             name='word_frequencies',\n",
    "                             index=words)"
   ]
  },
  {
   "cell_type": "code",
   "execution_count": 14,
   "metadata": {},
   "outputs": [
    {
     "data": {
      "text/html": [
       "<div>\n",
       "<style scoped>\n",
       "    .dataframe tbody tr th:only-of-type {\n",
       "        vertical-align: middle;\n",
       "    }\n",
       "\n",
       "    .dataframe tbody tr th {\n",
       "        vertical-align: top;\n",
       "    }\n",
       "\n",
       "    .dataframe thead th {\n",
       "        text-align: right;\n",
       "    }\n",
       "</style>\n",
       "<table border=\"1\" class=\"dataframe\">\n",
       "  <thead>\n",
       "    <tr style=\"text-align: right;\">\n",
       "      <th></th>\n",
       "      <th>word_frequencies</th>\n",
       "    </tr>\n",
       "  </thead>\n",
       "  <tbody>\n",
       "    <tr>\n",
       "      <th>diagonally</th>\n",
       "      <td>7.0</td>\n",
       "    </tr>\n",
       "    <tr>\n",
       "      <th>ack</th>\n",
       "      <td>8.0</td>\n",
       "    </tr>\n",
       "    <tr>\n",
       "      <th>ale</th>\n",
       "      <td>8.0</td>\n",
       "    </tr>\n",
       "    <tr>\n",
       "      <th>colliding</th>\n",
       "      <td>8.0</td>\n",
       "    </tr>\n",
       "    <tr>\n",
       "      <th>delivering</th>\n",
       "      <td>8.0</td>\n",
       "    </tr>\n",
       "  </tbody>\n",
       "</table>\n",
       "</div>"
      ],
      "text/plain": [
       "            word_frequencies\n",
       "diagonally               7.0\n",
       "ack                      8.0\n",
       "ale                      8.0\n",
       "colliding                8.0\n",
       "delivering               8.0"
      ]
     },
     "execution_count": 14,
     "metadata": {},
     "output_type": "execute_result"
    }
   ],
   "source": [
    "word_frequencies.nsmallest().to_frame()"
   ]
  },
  {
   "cell_type": "code",
   "execution_count": 15,
   "metadata": {},
   "outputs": [
    {
     "data": {
      "image/png": "[encoded data removed]",
      "text/plain": [
       "<Figure size 432x288 with 1 Axes>"
      ]
     },
     "metadata": {
      "needs_background": "light"
     },
     "output_type": "display_data"
    }
   ],
   "source": [
    "(word_frequencies\n",
    " .plot.hist(bins=100, title='Word Frequencies in NIPS over 17 Years', logy=True)\n",
    " .set(xlabel='Word Frequencies', ylabel='Number of Words'));"
   ]
  },
  {
   "cell_type": "markdown",
   "metadata": {},
   "source": [
    "## Using tensorly to operate on generic tensors\n",
    "\n",
    "[Tensorly](https://github.com/tensorly/tensorly) is a library for doing tensor learning in Python. It supports several backends with a uniform interface:\n",
    "\n",
    "- `numpy`\n",
    "- `pytorch`\n",
    "- `mxnet`\n",
    "- `tensorflow`\n",
    "- `cupy`\n",
    "\n",
    "To ensure algorithms run on every backend, it abstracts out the necessary operations for each backend, and uses those exclusively instead of methods on the tensors themselves.\n",
    "\n",
    "For example, instead of calling\n",
    "\n",
    "`tensor.shape`\n",
    "\n",
    "you'd use\n",
    "\n",
    "`tensorly.shape(tensor)`\n",
    "\n",
    "To change backends, use the `tensorly.set_backend` function, and use the `tensorly.get_backend` function to see the current backend."
   ]
  },
  {
   "cell_type": "code",
   "execution_count": 16,
   "metadata": {},
   "outputs": [],
   "source": [
    "import tensorly as tl"
   ]
  },
  {
   "cell_type": "code",
   "execution_count": 17,
   "metadata": {},
   "outputs": [
    {
     "data": {
      "text/plain": [
       "'numpy'"
      ]
     },
     "execution_count": 17,
     "metadata": {},
     "output_type": "execute_result"
    }
   ],
   "source": [
    "tl.get_backend()"
   ]
  },
  {
   "cell_type": "markdown",
   "metadata": {},
   "source": [
    "We've added `sparse` tensor support in the namespace `tensorly.contrib.sparse`. The intent is that there will be equivalent sparse functionality for all of the existing backends, and the `tensorly.contrib.sparse` namespace will mirror the normal `tensorly` namespace, with operations specialized for sparse tensors. For now, sparse functionality is only implemented for the `numpy` backend."
   ]
  },
  {
   "cell_type": "code",
   "execution_count": 18,
   "metadata": {},
   "outputs": [],
   "source": [
    "import tensorly.contrib.sparse as tlsp"
   ]
  },
  {
   "cell_type": "markdown",
   "metadata": {},
   "source": [
    "To see all the methods that are the same between the namespaces:"
   ]
  },
  {
   "cell_type": "code",
   "execution_count": 19,
   "metadata": {},
   "outputs": [
    {
     "data": {
      "text/plain": [
       "['SVD_FUNS',\n",
       " 'abs',\n",
       " 'all',\n",
       " 'arange',\n",
       " 'backend',\n",
       " 'clip',\n",
       " 'concatenate',\n",
       " 'context',\n",
       " 'copy',\n",
       " 'dot',\n",
       " 'eye',\n",
       " 'float32',\n",
       " 'float64',\n",
       " 'fold',\n",
       " 'get_backend',\n",
       " 'int32',\n",
       " 'int64',\n",
       " 'is_tensor',\n",
       " 'kr',\n",
       " 'kron',\n",
       " 'kruskal_to_tensor',\n",
       " 'kruskal_to_unfolded',\n",
       " 'kruskal_to_vec',\n",
       " 'max',\n",
       " 'mean',\n",
       " 'min',\n",
       " 'moveaxis',\n",
       " 'mps_to_tensor',\n",
       " 'mps_to_unfolded',\n",
       " 'mps_to_vec',\n",
       " 'ndim',\n",
       " 'norm',\n",
       " 'ones',\n",
       " 'partial_fold',\n",
       " 'partial_svd',\n",
       " 'partial_tensor_to_vec',\n",
       " 'partial_unfold',\n",
       " 'partial_vec_to_tensor',\n",
       " 'prod',\n",
       " 'qr',\n",
       " 'reshape',\n",
       " 'set_backend',\n",
       " 'shape',\n",
       " 'sign',\n",
       " 'solve',\n",
       " 'sqrt',\n",
       " 'sum',\n",
       " 'tensor',\n",
       " 'tensor_to_vec',\n",
       " 'to_numpy',\n",
       " 'transpose',\n",
       " 'tucker_to_tensor',\n",
       " 'tucker_to_unfolded',\n",
       " 'tucker_to_vec',\n",
       " 'unfold',\n",
       " 'vec_to_tensor',\n",
       " 'where',\n",
       " 'zeros',\n",
       " 'zeros_like']"
      ]
     },
     "execution_count": 19,
     "metadata": {},
     "output_type": "execute_result"
    }
   ],
   "source": [
    "sorted(i for i in set(dir(tl)).intersection(dir(tlsp))\n",
    "       if not i.startswith('_'))"
   ]
  },
  {
   "cell_type": "markdown",
   "metadata": {},
   "source": [
    "Demonstrating a few of the generic backend functions:"
   ]
  },
  {
   "cell_type": "code",
   "execution_count": 20,
   "metadata": {},
   "outputs": [
    {
     "data": {
      "text/plain": [
       "(2482, 2862, 14036, 17)"
      ]
     },
     "execution_count": 20,
     "metadata": {},
     "output_type": "execute_result"
    }
   ],
   "source": [
    "# Get the shape of a tensor\n",
    "tlsp.shape(tensor)"
   ]
  },
  {
   "cell_type": "code",
   "execution_count": 21,
   "metadata": {},
   "outputs": [
    {
     "data": {
      "text/plain": [
       "4.597517363045033e-06"
      ]
     },
     "execution_count": 21,
     "metadata": {},
     "output_type": "execute_result"
    }
   ],
   "source": [
    "# Take the mean of a tensor\n",
    "tlsp.mean(tensor)"
   ]
  },
  {
   "cell_type": "code",
   "execution_count": 22,
   "metadata": {},
   "outputs": [
    {
     "data": {
      "text/plain": [
       "7792684.0"
      ]
     },
     "execution_count": 22,
     "metadata": {},
     "output_type": "execute_result"
    }
   ],
   "source": [
    "# Take the sum of a tensor\n",
    "tlsp.sum(tensor)"
   ]
  },
  {
   "cell_type": "markdown",
   "metadata": {},
   "source": [
    "## Partial Tucker Decomposition\n",
    "\n",
    "Here we demonstrate computing a partial tucker decomposition along 2 of the modes:\n",
    "\n",
    "- `authors`\n",
    "- `words`\n",
    "\n",
    "each with an output rank of 5. To do this, we import the `partial_tucker` function from the `tensorly.contrib.sparse.decomposition` module. Note that this mirrors the functionality for dense tensors in `tensorly.decomposition`.\n",
    "\n",
    "To profile our computation, we'll time it, as well as determine the peak memory usage using the [`memory_profiler`](https://github.com/pythonprofilers/memory_profiler) notebook extension."
   ]
  },
  {
   "cell_type": "code",
   "execution_count": 23,
   "metadata": {},
   "outputs": [],
   "source": [
    "from tensorly.contrib.sparse.decomposition import partial_tucker"
   ]
  },
  {
   "cell_type": "code",
   "execution_count": 24,
   "metadata": {},
   "outputs": [],
   "source": [
    "import time\n",
    "%load_ext memory_profiler"
   ]
  },
  {
   "cell_type": "code",
   "execution_count": 25,
   "metadata": {},
   "outputs": [
    {
     "name": "stdout",
     "output_type": "stream",
     "text": [
      "reconsturction error=0.993453469191386, variation=4.833597356423969e-05.\n",
      "converged in 2 iterations.\n",
      "Took 3 mins 52 secs\n",
      "peak memory: 9411.13 MiB, increment: 8950.79 MiB\n"
     ]
    }
   ],
   "source": [
    "%%memit\n",
    "start_time = time.time()\n",
    "core, factors = partial_tucker(tensor,\n",
    "                               modes=[1, 2],\n",
    "                               rank=[5, 5],\n",
    "                               init='random',\n",
    "                               verbose=True,\n",
    "                               tol=1e-3)\n",
    "end_time = time.time()\n",
    "total_time = end_time - start_time\n",
    "print('Took %d mins %d secs' % (divmod(total_time, 60)))"
   ]
  },
  {
   "cell_type": "markdown",
   "metadata": {},
   "source": [
    "The peak memory usage was much lower than the size of the dense tensor, showing that the sparse tensor was never fully converted to a dense representation in memory.\n",
    "\n",
    "Looking at the output results, we can have two objects:\n",
    "\n",
    "- `core`: the core tensor from the decomposition. This is a sparse result.\n",
    "- `factors`: a list of factor arrays for each mode. These are dense."
   ]
  },
  {
   "cell_type": "code",
   "execution_count": 26,
   "metadata": {},
   "outputs": [
    {
     "data": {
      "text/plain": [
       "<COO: shape=(2482, 5, 5, 17), dtype=float64, nnz=62050, fill_value=0.0>"
      ]
     },
     "execution_count": 26,
     "metadata": {},
     "output_type": "execute_result"
    }
   ],
   "source": [
    "core"
   ]
  },
  {
   "cell_type": "code",
   "execution_count": 27,
   "metadata": {},
   "outputs": [],
   "source": [
    "author_factor, word_factor = factors"
   ]
  },
  {
   "cell_type": "markdown",
   "metadata": {},
   "source": [
    "Looking at a single factor array, we can see that it's a numpy array, with dtype `float64`, and a shape of `(axis_length, rank)`:"
   ]
  },
  {
   "cell_type": "code",
   "execution_count": 28,
   "metadata": {},
   "outputs": [
    {
     "data": {
      "text/plain": [
       "numpy.ndarray"
      ]
     },
     "execution_count": 28,
     "metadata": {},
     "output_type": "execute_result"
    }
   ],
   "source": [
    "type(author_factor)"
   ]
  },
  {
   "cell_type": "code",
   "execution_count": 29,
   "metadata": {},
   "outputs": [
    {
     "data": {
      "text/plain": [
       "dtype('float64')"
      ]
     },
     "execution_count": 29,
     "metadata": {},
     "output_type": "execute_result"
    }
   ],
   "source": [
    "author_factor.dtype"
   ]
  },
  {
   "cell_type": "code",
   "execution_count": 30,
   "metadata": {},
   "outputs": [
    {
     "data": {
      "text/plain": [
       "(2862, 5)"
      ]
     },
     "execution_count": 30,
     "metadata": {},
     "output_type": "execute_result"
    }
   ],
   "source": [
    "author_factor.shape"
   ]
  },
  {
   "cell_type": "markdown",
   "metadata": {},
   "source": [
    "We can plot these factors as heatmaps, to better view their representation."
   ]
  },
  {
   "cell_type": "code",
   "execution_count": 31,
   "metadata": {},
   "outputs": [],
   "source": [
    "import matplotlib.pyplot as plt\n",
    "from matplotlib import colors\n",
    "\n",
    "def plot_factors(x, thresh=0.005):\n",
    "    \"\"\"Plot the factors on a logarithmic z scale, clipping points\n",
    "    with an absolute value less than `thresh` to 0.\"\"\"\n",
    "    ax = plt.pcolormesh(np.where(np.abs(x) < thresh, np.nan, x),\n",
    "                        cmap='coolwarm',\n",
    "                        norm=colors.SymLogNorm(linthresh=thresh,\n",
    "                                               linscale=thresh,\n",
    "                                               vmin=x.min(),\n",
    "                                               vmax=x.max()))\n",
    "    return ax"
   ]
  },
  {
   "cell_type": "code",
   "execution_count": 32,
   "metadata": {},
   "outputs": [
    {
     "data": {
      "image/png": "[encoded data removed]",
      "text/plain": [
       "<Figure size 432x288 with 1 Axes>"
      ]
     },
     "metadata": {
      "needs_background": "light"
     },
     "output_type": "display_data"
    }
   ],
   "source": [
    "fig = plot_factors(author_factor)\n",
    "plt.title('Author Factors');"
   ]
  },
  {
   "cell_type": "code",
   "execution_count": 33,
   "metadata": {},
   "outputs": [
    {
     "data": {
      "image/png": "[encoded data removed]",
      "text/plain": [
       "<Figure size 432x288 with 1 Axes>"
      ]
     },
     "metadata": {
      "needs_background": "light"
     },
     "output_type": "display_data"
    }
   ],
   "source": [
    "fig = plot_factors(word_factor)\n",
    "plt.title('Word Factors');"
   ]
  },
  {
   "cell_type": "markdown",
   "metadata": {},
   "source": [
    "This functionality is not yet merged into `tensorly`, but should be in the coming weeks. The relevant PRs can be viewed at:\n",
    "\n",
    "- [#76](https://github.com/tensorly/tensorly/pull/76): Refactor tensorly backend support\n",
    "- [#77](https://github.com/tensorly/tensorly/pull/77): At sparse tensor support to tensorly"
   ]
  }
 ],
 "metadata": {
  "kernelspec": {
   "display_name": "Python 3",
   "language": "python",
   "name": "python3"
  },
  "language_info": {
   "codemirror_mode": {
    "name": "ipython",
    "version": 3
   },
   "file_extension": ".py",
   "mimetype": "text/x-python",
   "name": "python",
   "nbconvert_exporter": "python",
   "pygments_lexer": "ipython3",
   "version": "3.6.6"
  }
 },
 "nbformat": 4,
 "nbformat_minor": 2
}